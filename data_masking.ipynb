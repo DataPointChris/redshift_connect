{
 "cells": [
  {
   "cell_type": "markdown",
   "metadata": {},
   "source": [
    "# Data Masking"
   ]
  },
  {
   "cell_type": "code",
   "execution_count": null,
   "metadata": {},
   "outputs": [],
   "source": [
    "# Static masking using Views\n",
    "df(\"\"\"\n",
    "CREATE OR REPLACE VIEW redacted_customers AS\n",
    "SELECT sha2(first_name, 256) AS first_name, \n",
    "sha2(last_name, 256) AS last_name, \n",
    "country_code,\n",
    "REGEXP_REPLACE(email, '[^@]+@', '*@') AS email\n",
    "FROM customers;\n",
    "\"\"\")"
   ]
  },
  {
   "cell_type": "code",
   "execution_count": null,
   "metadata": {},
   "outputs": [],
   "source": [
    "# dynamic masking\n",
    "df(\"\"\"\n",
    "CREATE VIEW v_customers AS\n",
    "SELECT CASE WHEN CURRENT_USER='admin' THEN first_name ELSE sha2(first_name, 256) END AS first_name,\n",
    "CASE WHEN CURRENT_USER='admin' THEN last_name ELSE sha2(last_name, 256) END AS last_name,\n",
    "country_code,\n",
    "CASE WHEN CURRENT_USER='admin' THEN email ELSE REGEXP_REPLACE(email, '[^@]+@', '*@') END AS email\n",
    "FROM public.customers;\n",
    "\"\"\")"
   ]
  },
  {
   "cell_type": "code",
   "execution_count": null,
   "metadata": {},
   "outputs": [],
   "source": []
  },
  {
   "cell_type": "code",
   "execution_count": null,
   "metadata": {},
   "outputs": [],
   "source": []
  }
 ],
 "metadata": {
  "language_info": {
   "name": "python"
  },
  "orig_nbformat": 4
 },
 "nbformat": 4,
 "nbformat_minor": 2
}

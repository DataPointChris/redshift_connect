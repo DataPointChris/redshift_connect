{
 "cells": [
  {
   "cell_type": "markdown",
   "metadata": {},
   "source": [
    "# Standardizing a Database"
   ]
  },
  {
   "cell_type": "markdown",
   "metadata": {},
   "source": [
    "prefixes for all of the support groups  \n",
    "what ing or trn do they have access to?  \n",
    "What service-account(s) do they have?  \n",
    "what access does the service account have?"
   ]
  },
  {
   "cell_type": "markdown",
   "metadata": {},
   "source": []
  },
  {
   "cell_type": "markdown",
   "metadata": {},
   "source": [
    "Making it work for all of the environ:\n",
    "\n"
   ]
  },
  {
   "cell_type": "code",
   "execution_count": 1,
   "metadata": {},
   "outputs": [],
   "source": [
    "from environments import ENVIRONMENTS\n",
    "from applications import APPLICATIONS, Application\n",
    "from service_role import ServiceRole"
   ]
  },
  {
   "cell_type": "code",
   "execution_count": 2,
   "metadata": {},
   "outputs": [],
   "source": [
    "DEFAULT_SCHEMAS = ['_ing', '_trn']\n"
   ]
  },
  {
   "cell_type": "markdown",
   "metadata": {},
   "source": [
    "## Applications\n"
   ]
  },
  {
   "cell_type": "code",
   "execution_count": 5,
   "metadata": {},
   "outputs": [],
   "source": [
    "# I think that the application isn't correct \n",
    "# by giving create permissions to the egress accounts.\n",
    "# Also it should take in a parameter `schema_access` \n",
    "# and create the access patterns from that instead of hardcode trn and ing.  \n",
    "# I think maybe this goes in `APPLICATIONS`"
   ]
  },
  {
   "cell_type": "code",
   "execution_count": 3,
   "metadata": {},
   "outputs": [],
   "source": [
    "sql = {}\n",
    "\n",
    "# ENVIRONMENTS\n",
    "# Every env has applications\n",
    "for env in ENVIRONMENTS:\n",
    "    sql[env] = []\n",
    "    environment = ENVIRONMENTS.get(env)\n",
    "    \n",
    "    # APPLICATIONS\n",
    "    # Every application has service roles, prefix, group_name, support group\n",
    "    for application in APPLICATIONS:\n",
    "        app = Application(application, environment=environment)\n",
    "\n",
    "        # SUPPORT GROUPS\n",
    "        support_group_sql = app.create_support_group_sql\n",
    "        sql[env].append(support_group_sql)\n",
    "      \n",
    "        # SERVICE ROLES\n",
    "        # # Every service_role has env prefix, group name, service_role_name\n",
    "        for service_role in app.service_roles:\n",
    "            role = ServiceRole(application=app.application, service_role=service_role, environment=environment)\n",
    "            service_account_sql = [\n",
    "                role.create_group_sql,\n",
    "                role.create_service_user_sql,\n",
    "                role.alter_default_privileges_service_account,\n",
    "                role.grant_usage_to_service_account_ing,\n",
    "                role.grant_create_to_service_account_ing,\n",
    "                role.grant_usage_to_service_account_trn,\n",
    "                role.grant_create_to_service_account_trn,\n",
    "            ]\n",
    "            sql[env].extend(service_account_sql)\n",
    "        # All of these hard-coded names are ugly and horrible\n",
    "        # They should be functions instead of just attributes\n",
    "        # Or have better names\n"
   ]
  },
  {
   "cell_type": "code",
   "execution_count": 4,
   "metadata": {},
   "outputs": [
    {
     "data": {
      "text/plain": [
       "['create group \"prod-core-None\";',\n",
       " 'create group \"prod-core-ingest\";',\n",
       " 'create user \"s-prod-core-ingest-prod@ichrisbirch.com\" password \\'G95j<-OxxYhW\\';',\n",
       " 'alter default privileges for user \"s-prod-core-ingest-prod@ichrisbirch.com\" grant select on tables to group \"prod-core-ingest\";',\n",
       " 'grant usage on schema \"core_ing\" to group \"prod-core-ingest\"',\n",
       " 'grant create on schema \"core_ing\" to group \"prod-core-ingest\"',\n",
       " 'grant usage on schema \"core_trn\" to group \"prod-core-ingest\"',\n",
       " 'grant create on schema \"core_trn\" to group \"prod-core-ingest\"',\n",
       " 'create group \"prod-core-transform\";',\n",
       " 'create user \"s-prod-core-transform-prod@ichrisbirch.com\" password \\'boiP7ILd@8tS\\';',\n",
       " 'alter default privileges for user \"s-prod-core-transform-prod@ichrisbirch.com\" grant select on tables to group \"prod-core-transform\";',\n",
       " 'grant usage on schema \"core_ing\" to group \"prod-core-transform\"',\n",
       " 'grant create on schema \"core_ing\" to group \"prod-core-transform\"',\n",
       " 'grant usage on schema \"core_trn\" to group \"prod-core-transform\"',\n",
       " 'grant create on schema \"core_trn\" to group \"prod-core-transform\"',\n",
       " 'create group \"prod-core-tableau-egress\";',\n",
       " 'create user \"s-prod-core-tableau-egress-prod@ichrisbirch.com\" password \\'1#hi(AdfAyHs\\';',\n",
       " 'alter default privileges for user \"s-prod-core-tableau-egress-prod@ichrisbirch.com\" grant select on tables to group \"prod-core-tableau-egress\";',\n",
       " 'grant usage on schema \"core_ing\" to group \"prod-core-tableau-egress\"',\n",
       " 'grant create on schema \"core_ing\" to group \"prod-core-tableau-egress\"',\n",
       " 'grant usage on schema \"core_trn\" to group \"prod-core-tableau-egress\"',\n",
       " 'grant create on schema \"core_trn\" to group \"prod-core-tableau-egress\"',\n",
       " 'create group \"prod-core-powerbi-egress\";',\n",
       " 'create user \"s-prod-core-powerbi-egress-prod@ichrisbirch.com\" password \\'9H!J2=UWt>Gj\\';',\n",
       " 'alter default privileges for user \"s-prod-core-powerbi-egress-prod@ichrisbirch.com\" grant select on tables to group \"prod-core-powerbi-egress\";',\n",
       " 'grant usage on schema \"core_ing\" to group \"prod-core-powerbi-egress\"',\n",
       " 'grant create on schema \"core_ing\" to group \"prod-core-powerbi-egress\"',\n",
       " 'grant usage on schema \"core_trn\" to group \"prod-core-powerbi-egress\"',\n",
       " 'grant create on schema \"core_trn\" to group \"prod-core-powerbi-egress\"',\n",
       " 'create group \"prod-google-None\";',\n",
       " 'create group \"prod-google-ingest\";',\n",
       " 'create user \"s-prod-google-ingest-prod@ichrisbirch.com\" password \\'eW!n=-L#w%3H\\';',\n",
       " 'alter default privileges for user \"s-prod-google-ingest-prod@ichrisbirch.com\" grant select on tables to group \"prod-google-ingest\";',\n",
       " 'grant usage on schema \"google_ing\" to group \"prod-google-ingest\"',\n",
       " 'grant create on schema \"google_ing\" to group \"prod-google-ingest\"',\n",
       " 'grant usage on schema \"google_trn\" to group \"prod-google-ingest\"',\n",
       " 'grant create on schema \"google_trn\" to group \"prod-google-ingest\"',\n",
       " 'create group \"prod-google-transform\";',\n",
       " 'create user \"s-prod-google-transform-prod@ichrisbirch.com\" password \\'4Df@r8hnXLEF\\';',\n",
       " 'alter default privileges for user \"s-prod-google-transform-prod@ichrisbirch.com\" grant select on tables to group \"prod-google-transform\";',\n",
       " 'grant usage on schema \"google_ing\" to group \"prod-google-transform\"',\n",
       " 'grant create on schema \"google_ing\" to group \"prod-google-transform\"',\n",
       " 'grant usage on schema \"google_trn\" to group \"prod-google-transform\"',\n",
       " 'grant create on schema \"google_trn\" to group \"prod-google-transform\"',\n",
       " 'create group \"prod-google-tableau-egress\";',\n",
       " 'create user \"s-prod-google-tableau-egress-prod@ichrisbirch.com\" password \\'k^zD4yxDVO!A\\';',\n",
       " 'alter default privileges for user \"s-prod-google-tableau-egress-prod@ichrisbirch.com\" grant select on tables to group \"prod-google-tableau-egress\";',\n",
       " 'grant usage on schema \"google_ing\" to group \"prod-google-tableau-egress\"',\n",
       " 'grant create on schema \"google_ing\" to group \"prod-google-tableau-egress\"',\n",
       " 'grant usage on schema \"google_trn\" to group \"prod-google-tableau-egress\"',\n",
       " 'grant create on schema \"google_trn\" to group \"prod-google-tableau-egress\"',\n",
       " 'create group \"prod-google-powerbi-egress\";',\n",
       " 'create user \"s-prod-google-powerbi-egress-prod@ichrisbirch.com\" password \\'u=9N^HMaJi>>\\';',\n",
       " 'alter default privileges for user \"s-prod-google-powerbi-egress-prod@ichrisbirch.com\" grant select on tables to group \"prod-google-powerbi-egress\";',\n",
       " 'grant usage on schema \"google_ing\" to group \"prod-google-powerbi-egress\"',\n",
       " 'grant create on schema \"google_ing\" to group \"prod-google-powerbi-egress\"',\n",
       " 'grant usage on schema \"google_trn\" to group \"prod-google-powerbi-egress\"',\n",
       " 'grant create on schema \"google_trn\" to group \"prod-google-powerbi-egress\"',\n",
       " 'create group \"prod-facebook-None\";',\n",
       " 'create group \"prod-facebook-ingest\";',\n",
       " 'create user \"s-prod-facebook-ingest-prod@ichrisbirch.com\" password \\'nTA$@C=#)2&5\\';',\n",
       " 'alter default privileges for user \"s-prod-facebook-ingest-prod@ichrisbirch.com\" grant select on tables to group \"prod-facebook-ingest\";',\n",
       " 'grant usage on schema \"facebook_ing\" to group \"prod-facebook-ingest\"',\n",
       " 'grant create on schema \"facebook_ing\" to group \"prod-facebook-ingest\"',\n",
       " 'grant usage on schema \"facebook_trn\" to group \"prod-facebook-ingest\"',\n",
       " 'grant create on schema \"facebook_trn\" to group \"prod-facebook-ingest\"',\n",
       " 'create group \"prod-facebook-transform\";',\n",
       " 'create user \"s-prod-facebook-transform-prod@ichrisbirch.com\" password \\'b^TIJ7(wVHZi\\';',\n",
       " 'alter default privileges for user \"s-prod-facebook-transform-prod@ichrisbirch.com\" grant select on tables to group \"prod-facebook-transform\";',\n",
       " 'grant usage on schema \"facebook_ing\" to group \"prod-facebook-transform\"',\n",
       " 'grant create on schema \"facebook_ing\" to group \"prod-facebook-transform\"',\n",
       " 'grant usage on schema \"facebook_trn\" to group \"prod-facebook-transform\"',\n",
       " 'grant create on schema \"facebook_trn\" to group \"prod-facebook-transform\"',\n",
       " 'create group \"prod-facebook-tableau-egress\";',\n",
       " 'create user \"s-prod-facebook-tableau-egress-prod@ichrisbirch.com\" password \\'oIcErD5eRL=N\\';',\n",
       " 'alter default privileges for user \"s-prod-facebook-tableau-egress-prod@ichrisbirch.com\" grant select on tables to group \"prod-facebook-tableau-egress\";',\n",
       " 'grant usage on schema \"facebook_ing\" to group \"prod-facebook-tableau-egress\"',\n",
       " 'grant create on schema \"facebook_ing\" to group \"prod-facebook-tableau-egress\"',\n",
       " 'grant usage on schema \"facebook_trn\" to group \"prod-facebook-tableau-egress\"',\n",
       " 'grant create on schema \"facebook_trn\" to group \"prod-facebook-tableau-egress\"',\n",
       " 'create group \"prod-facebook-powerbi-egress\";',\n",
       " 'create user \"s-prod-facebook-powerbi-egress-prod@ichrisbirch.com\" password \\'*dQZWc8DSAg%\\';',\n",
       " 'alter default privileges for user \"s-prod-facebook-powerbi-egress-prod@ichrisbirch.com\" grant select on tables to group \"prod-facebook-powerbi-egress\";',\n",
       " 'grant usage on schema \"facebook_ing\" to group \"prod-facebook-powerbi-egress\"',\n",
       " 'grant create on schema \"facebook_ing\" to group \"prod-facebook-powerbi-egress\"',\n",
       " 'grant usage on schema \"facebook_trn\" to group \"prod-facebook-powerbi-egress\"',\n",
       " 'grant create on schema \"facebook_trn\" to group \"prod-facebook-powerbi-egress\"',\n",
       " 'create group \"prod-airbnb-None\";',\n",
       " 'create group \"prod-airbnb-ingest\";',\n",
       " 'create user \"s-prod-airbnb-ingest-prod@ichrisbirch.com\" password \\'#9Xyrton7C8f\\';',\n",
       " 'alter default privileges for user \"s-prod-airbnb-ingest-prod@ichrisbirch.com\" grant select on tables to group \"prod-airbnb-ingest\";',\n",
       " 'grant usage on schema \"airbnb_ing\" to group \"prod-airbnb-ingest\"',\n",
       " 'grant create on schema \"airbnb_ing\" to group \"prod-airbnb-ingest\"',\n",
       " 'grant usage on schema \"airbnb_trn\" to group \"prod-airbnb-ingest\"',\n",
       " 'grant create on schema \"airbnb_trn\" to group \"prod-airbnb-ingest\"',\n",
       " 'create group \"prod-airbnb-transform\";',\n",
       " 'create user \"s-prod-airbnb-transform-prod@ichrisbirch.com\" password \\'5taQkLAU-8&N\\';',\n",
       " 'alter default privileges for user \"s-prod-airbnb-transform-prod@ichrisbirch.com\" grant select on tables to group \"prod-airbnb-transform\";',\n",
       " 'grant usage on schema \"airbnb_ing\" to group \"prod-airbnb-transform\"',\n",
       " 'grant create on schema \"airbnb_ing\" to group \"prod-airbnb-transform\"',\n",
       " 'grant usage on schema \"airbnb_trn\" to group \"prod-airbnb-transform\"',\n",
       " 'grant create on schema \"airbnb_trn\" to group \"prod-airbnb-transform\"',\n",
       " 'create group \"prod-airbnb-tableau-egress\";',\n",
       " 'create user \"s-prod-airbnb-tableau-egress-prod@ichrisbirch.com\" password \\'Yk6P%Y*rUmD)\\';',\n",
       " 'alter default privileges for user \"s-prod-airbnb-tableau-egress-prod@ichrisbirch.com\" grant select on tables to group \"prod-airbnb-tableau-egress\";',\n",
       " 'grant usage on schema \"airbnb_ing\" to group \"prod-airbnb-tableau-egress\"',\n",
       " 'grant create on schema \"airbnb_ing\" to group \"prod-airbnb-tableau-egress\"',\n",
       " 'grant usage on schema \"airbnb_trn\" to group \"prod-airbnb-tableau-egress\"',\n",
       " 'grant create on schema \"airbnb_trn\" to group \"prod-airbnb-tableau-egress\"',\n",
       " 'create group \"prod-airbnb-powerbi-egress\";',\n",
       " 'create user \"s-prod-airbnb-powerbi-egress-prod@ichrisbirch.com\" password \\'1W5S3dfI^Pjd\\';',\n",
       " 'alter default privileges for user \"s-prod-airbnb-powerbi-egress-prod@ichrisbirch.com\" grant select on tables to group \"prod-airbnb-powerbi-egress\";',\n",
       " 'grant usage on schema \"airbnb_ing\" to group \"prod-airbnb-powerbi-egress\"',\n",
       " 'grant create on schema \"airbnb_ing\" to group \"prod-airbnb-powerbi-egress\"',\n",
       " 'grant usage on schema \"airbnb_trn\" to group \"prod-airbnb-powerbi-egress\"',\n",
       " 'grant create on schema \"airbnb_trn\" to group \"prod-airbnb-powerbi-egress\"',\n",
       " 'create group \"prod-github-None\";',\n",
       " 'create group \"prod-github-ingest\";',\n",
       " 'create user \"s-prod-github-ingest-prod@ichrisbirch.com\" password \\'E-Ya0jW-KeMF\\';',\n",
       " 'alter default privileges for user \"s-prod-github-ingest-prod@ichrisbirch.com\" grant select on tables to group \"prod-github-ingest\";',\n",
       " 'grant usage on schema \"github_ing\" to group \"prod-github-ingest\"',\n",
       " 'grant create on schema \"github_ing\" to group \"prod-github-ingest\"',\n",
       " 'grant usage on schema \"github_trn\" to group \"prod-github-ingest\"',\n",
       " 'grant create on schema \"github_trn\" to group \"prod-github-ingest\"',\n",
       " 'create group \"prod-github-transform\";',\n",
       " 'create user \"s-prod-github-transform-prod@ichrisbirch.com\" password \\'4Al4waXf(*4q\\';',\n",
       " 'alter default privileges for user \"s-prod-github-transform-prod@ichrisbirch.com\" grant select on tables to group \"prod-github-transform\";',\n",
       " 'grant usage on schema \"github_ing\" to group \"prod-github-transform\"',\n",
       " 'grant create on schema \"github_ing\" to group \"prod-github-transform\"',\n",
       " 'grant usage on schema \"github_trn\" to group \"prod-github-transform\"',\n",
       " 'grant create on schema \"github_trn\" to group \"prod-github-transform\"',\n",
       " 'create group \"prod-github-tableau-egress\";',\n",
       " 'create user \"s-prod-github-tableau-egress-prod@ichrisbirch.com\" password \\'H6hwE!MFCFg1\\';',\n",
       " 'alter default privileges for user \"s-prod-github-tableau-egress-prod@ichrisbirch.com\" grant select on tables to group \"prod-github-tableau-egress\";',\n",
       " 'grant usage on schema \"github_ing\" to group \"prod-github-tableau-egress\"',\n",
       " 'grant create on schema \"github_ing\" to group \"prod-github-tableau-egress\"',\n",
       " 'grant usage on schema \"github_trn\" to group \"prod-github-tableau-egress\"',\n",
       " 'grant create on schema \"github_trn\" to group \"prod-github-tableau-egress\"',\n",
       " 'create group \"prod-github-powerbi-egress\";',\n",
       " 'create user \"s-prod-github-powerbi-egress-prod@ichrisbirch.com\" password \\'pw382q$Yr)u>\\';',\n",
       " 'alter default privileges for user \"s-prod-github-powerbi-egress-prod@ichrisbirch.com\" grant select on tables to group \"prod-github-powerbi-egress\";',\n",
       " 'grant usage on schema \"github_ing\" to group \"prod-github-powerbi-egress\"',\n",
       " 'grant create on schema \"github_ing\" to group \"prod-github-powerbi-egress\"',\n",
       " 'grant usage on schema \"github_trn\" to group \"prod-github-powerbi-egress\"',\n",
       " 'grant create on schema \"github_trn\" to group \"prod-github-powerbi-egress\"',\n",
       " 'create group \"prod-microsoft-None\";',\n",
       " 'create group \"prod-microsoft-ingest\";',\n",
       " 'create user \"s-prod-microsoft-ingest-prod@ichrisbirch.com\" password \\'F%n0acfZpGq3\\';',\n",
       " 'alter default privileges for user \"s-prod-microsoft-ingest-prod@ichrisbirch.com\" grant select on tables to group \"prod-microsoft-ingest\";',\n",
       " 'grant usage on schema \"microsoft_ing\" to group \"prod-microsoft-ingest\"',\n",
       " 'grant create on schema \"microsoft_ing\" to group \"prod-microsoft-ingest\"',\n",
       " 'grant usage on schema \"microsoft_trn\" to group \"prod-microsoft-ingest\"',\n",
       " 'grant create on schema \"microsoft_trn\" to group \"prod-microsoft-ingest\"',\n",
       " 'create group \"prod-microsoft-transform\";',\n",
       " 'create user \"s-prod-microsoft-transform-prod@ichrisbirch.com\" password \\'f5c6^LdJ^J$p\\';',\n",
       " 'alter default privileges for user \"s-prod-microsoft-transform-prod@ichrisbirch.com\" grant select on tables to group \"prod-microsoft-transform\";',\n",
       " 'grant usage on schema \"microsoft_ing\" to group \"prod-microsoft-transform\"',\n",
       " 'grant create on schema \"microsoft_ing\" to group \"prod-microsoft-transform\"',\n",
       " 'grant usage on schema \"microsoft_trn\" to group \"prod-microsoft-transform\"',\n",
       " 'grant create on schema \"microsoft_trn\" to group \"prod-microsoft-transform\"',\n",
       " 'create group \"prod-microsoft-tableau-egress\";',\n",
       " 'create user \"s-prod-microsoft-tableau-egress-prod@ichrisbirch.com\" password \\'LD)6Did!(I3A\\';',\n",
       " 'alter default privileges for user \"s-prod-microsoft-tableau-egress-prod@ichrisbirch.com\" grant select on tables to group \"prod-microsoft-tableau-egress\";',\n",
       " 'grant usage on schema \"microsoft_ing\" to group \"prod-microsoft-tableau-egress\"',\n",
       " 'grant create on schema \"microsoft_ing\" to group \"prod-microsoft-tableau-egress\"',\n",
       " 'grant usage on schema \"microsoft_trn\" to group \"prod-microsoft-tableau-egress\"',\n",
       " 'grant create on schema \"microsoft_trn\" to group \"prod-microsoft-tableau-egress\"',\n",
       " 'create group \"prod-microsoft-powerbi-egress\";',\n",
       " 'create user \"s-prod-microsoft-powerbi-egress-prod@ichrisbirch.com\" password \\'0wSx=i<*FD%k\\';',\n",
       " 'alter default privileges for user \"s-prod-microsoft-powerbi-egress-prod@ichrisbirch.com\" grant select on tables to group \"prod-microsoft-powerbi-egress\";',\n",
       " 'grant usage on schema \"microsoft_ing\" to group \"prod-microsoft-powerbi-egress\"',\n",
       " 'grant create on schema \"microsoft_ing\" to group \"prod-microsoft-powerbi-egress\"',\n",
       " 'grant usage on schema \"microsoft_trn\" to group \"prod-microsoft-powerbi-egress\"',\n",
       " 'grant create on schema \"microsoft_trn\" to group \"prod-microsoft-powerbi-egress\"']"
      ]
     },
     "execution_count": 4,
     "metadata": {},
     "output_type": "execute_result"
    }
   ],
   "source": [
    "sql['prod']"
   ]
  },
  {
   "cell_type": "code",
   "execution_count": null,
   "metadata": {},
   "outputs": [],
   "source": []
  },
  {
   "cell_type": "code",
   "execution_count": null,
   "metadata": {},
   "outputs": [],
   "source": []
  },
  {
   "cell_type": "code",
   "execution_count": null,
   "metadata": {},
   "outputs": [],
   "source": []
  },
  {
   "cell_type": "code",
   "execution_count": null,
   "metadata": {},
   "outputs": [],
   "source": []
  },
  {
   "cell_type": "code",
   "execution_count": null,
   "metadata": {},
   "outputs": [],
   "source": []
  },
  {
   "cell_type": "code",
   "execution_count": null,
   "metadata": {},
   "outputs": [],
   "source": []
  },
  {
   "cell_type": "code",
   "execution_count": null,
   "metadata": {},
   "outputs": [],
   "source": []
  },
  {
   "cell_type": "code",
   "execution_count": null,
   "metadata": {},
   "outputs": [],
   "source": []
  },
  {
   "cell_type": "code",
   "execution_count": null,
   "metadata": {},
   "outputs": [],
   "source": []
  },
  {
   "cell_type": "code",
   "execution_count": null,
   "metadata": {},
   "outputs": [],
   "source": []
  }
 ],
 "metadata": {
  "interpreter": {
   "hash": "6985f10b91082f8e90fb90f5e291b1f6a2370ee2bb80fa772a7655e7d786a886"
  },
  "kernelspec": {
   "display_name": "Python 3.8.12 64-bit ('.venv': venv)",
   "language": "python",
   "name": "python3"
  },
  "language_info": {
   "codemirror_mode": {
    "name": "ipython",
    "version": 3
   },
   "file_extension": ".py",
   "mimetype": "text/x-python",
   "name": "python",
   "nbconvert_exporter": "python",
   "pygments_lexer": "ipython3",
   "version": "3.10.2"
  },
  "orig_nbformat": 4
 },
 "nbformat": 4,
 "nbformat_minor": 2
}

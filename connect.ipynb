{
 "cells": [
  {
   "cell_type": "code",
   "execution_count": 1,
   "metadata": {},
   "outputs": [],
   "source": [
    "import redshift_connector\n",
    "from faker import Faker\n",
    "import random\n",
    "from collections import namedtuple\n",
    "import dotenv\n",
    "import os\n",
    "dotenv.load_dotenv()\n",
    "\n",
    "\n",
    "conn = redshift_connector.connect(\n",
    "    host=os.environ.get('HOST'),\n",
    "    port=int(os.environ.get('PORT')),\n",
    "    database=os.environ.get('DATABASE'),\n",
    "    user=os.environ.get('USER'),\n",
    "    password=os.environ.get('PASSWORD')\n",
    ")\n",
    "conn.autocommit = True\n",
    "c = conn.cursor()\n",
    "\n",
    "fake = Faker()"
   ]
  },
  {
   "cell_type": "code",
   "execution_count": 15,
   "metadata": {},
   "outputs": [],
   "source": [
    "conn.rollback()"
   ]
  },
  {
   "cell_type": "code",
   "execution_count": 2,
   "metadata": {},
   "outputs": [],
   "source": [
    "def df(sql):\n",
    "    return c.execute(sql).fetch_dataframe()"
   ]
  },
  {
   "cell_type": "code",
   "execution_count": 3,
   "metadata": {},
   "outputs": [],
   "source": [
    "schemas = [\n",
    "    'schema_parts',\n",
    "    'schema_iron',\n",
    "    'schema_sales',\n",
    "    'schema_research',\n",
    "    'schema_consumer',\n",
    "    'schema_production',\n",
    "]\n",
    "groups = [\n",
    "    'group_marketing',\n",
    "    'group_sales',\n",
    "    'group_hr',\n",
    "    'group_development',\n",
    "    'group_engineering',\n",
    "]\n",
    "tables = [\n",
    "    'table_a',\n",
    "    'table_b',\n",
    "    'table_c',\n",
    "    'table_d',\n",
    "    'table_e',\n",
    "    'table_f',\n",
    "    'table_h',\n",
    "    'table_i',\n",
    "    'table_j',\n",
    "]\n",
    "\n",
    "schema_group_permissions = {\n",
    "    'schema_parts': ['group_development', 'group_engineering'],\n",
    "    'schema_iron': ['group_engineering'],\n",
    "    'schema_sales': ['group_sales', 'group_marketing'],\n",
    "    'schema_research': ['group_development', 'group_engineering'],\n",
    "    'schema_consumer': ['group_marketing', 'group_sales', 'group_hr', 'group_development'],\n",
    "    'schema_production': ['group_engineering'],\n",
    "}\n"
   ]
  },
  {
   "cell_type": "code",
   "execution_count": 4,
   "metadata": {},
   "outputs": [],
   "source": [
    "test_schemas = [\n",
    "    'marketing',\n",
    "    'sales',\n",
    "    'engineering',\n",
    "    'manufacturing',\n",
    "    'electrical',\n",
    "    'hr',\n",
    "    'batteries',\n",
    "]\n",
    "\n",
    "test_tables = [\n",
    "    'table_a',\n",
    "    'table_b',\n",
    "    'table_c',\n",
    "    'table_d',\n",
    "    'table_e',\n",
    "    'table_gg',\n",
    "    'table_h',\n",
    "    'table_i',\n",
    "    'table_j',\n",
    "]\n",
    "\n",
    "test_tables = [f'{s}.{t}' for t in test_tables for s in test_schemas]\n"
   ]
  },
  {
   "cell_type": "code",
   "execution_count": 33,
   "metadata": {},
   "outputs": [],
   "source": [
    "c.execute('create schema admin;')\n",
    "conn.commit()"
   ]
  },
  {
   "cell_type": "code",
   "execution_count": null,
   "metadata": {},
   "outputs": [],
   "source": [
    "\"\"\"\n",
    "/**********************************************************************************************\n",
    "Purpose: \t\tFind all objects owned by the user to be dropped\n",
    "Columns -\n",
    "objtype:\t\tType of object owned by the user. Object types are Function,Schema,Table or View\n",
    "objowner:\t\tObject owner\n",
    "userid:\t\t\tObject owner user id\n",
    "schemaname:\t\tSchema for the user object\n",
    "objname:\t\tName of the object\n",
    "Notes:\t\t\tCreate prepared statement. Run it i.e execute find_drop_userobjs('<username>'). This\n",
    "\t\t\t\twill return all the objects owned by the user. You can then alter the object owner\n",
    "\t\t\t\tor drop the object\n",
    "History:\n",
    "2017-03-24 adedotua created\n",
    "2017-03-27 adedotua updated prepared statement name\n",
    "2017-04-06 adedotua improvements\n",
    "**********************************************************************************************/\n",
    "\"\"\""
   ]
  },
  {
   "cell_type": "code",
   "execution_count": null,
   "metadata": {},
   "outputs": [],
   "source": [
    "c.execute(\"\"\"\n",
    "\n",
    "prepare find_drop_userobjs(varchar) as \n",
    "select owner.objtype,owner.objowner,owner.userid,owner.schemaname,owner.objname from(\n",
    "-- Functions owned by the user\n",
    "select 'Function',pgu.usename,pgu.usesysid,nc.nspname,textin(regprocedureout(pproc.oid::regprocedure))\n",
    "from \n",
    "pg_proc pproc,pg_user pgu,pg_namespace nc \n",
    "where pproc.pronamespace=nc.oid and pproc.proowner=pgu.usesysid\n",
    "UNION ALL\n",
    "-- Databases owned by the user\n",
    "select 'Database',pgu.usename,pgu.usesysid,null,pgd.datname from pg_database pgd,pg_user pgu where pgd.datdba=pgu.usesysid\n",
    "UNION ALL\n",
    "-- Schemas owned by the user\n",
    "select 'Schema',pgu.usename,pgu.usesysid,null,pgn.nspname from pg_namespace pgn,pg_user pgu where pgn.nspowner=pgu.usesysid\n",
    "UNION ALL\n",
    "-- Tables or Views owned by the user\n",
    "select decode(pgc.relkind,'r','Table','v','View'),pgu.usename,pgu.usesysid,nc.nspname,pgc.relname\n",
    "from\n",
    "pg_class pgc,pg_user pgu,pg_namespace nc \n",
    "where pgc.relnamespace=nc.oid and pgc.relkind in ('r','v') and pgu.usesysid=pgc.relowner) owner(\"objtype\",\"objowner\",\"userid\",\"schemaname\",\"objname\")\n",
    "where owner.objowner = $1;\n",
    "\n",
    "\"\"\")"
   ]
  },
  {
   "cell_type": "code",
   "execution_count": 24,
   "metadata": {},
   "outputs": [],
   "source": [
    "conn.commit()"
   ]
  },
  {
   "cell_type": "code",
   "execution_count": 30,
   "metadata": {},
   "outputs": [],
   "source": [
    "c.execute(\"execute find_drop_userobjs('salesperson_1');\").fetch_dataframe()"
   ]
  },
  {
   "cell_type": "code",
   "execution_count": 34,
   "metadata": {},
   "outputs": [],
   "source": [
    "c.execute(\"\"\"\n",
    "CREATE OR REPLACE VIEW admin.v_get_obj_priv_by_user\n",
    "AS\n",
    "SELECT\n",
    "    * \n",
    "FROM \n",
    "    (\n",
    "    SELECT \n",
    "        schemaname\n",
    "        ,objectname\n",
    "        ,usename\n",
    "        ,HAS_TABLE_PRIVILEGE(usrs.usename, fullobj, 'select') AS sel\n",
    "        ,HAS_TABLE_PRIVILEGE(usrs.usename, fullobj, 'insert') AS ins\n",
    "        ,HAS_TABLE_PRIVILEGE(usrs.usename, fullobj, 'update') AS upd\n",
    "        ,HAS_TABLE_PRIVILEGE(usrs.usename, fullobj, 'delete') AS del\n",
    "        ,HAS_TABLE_PRIVILEGE(usrs.usename, fullobj, 'references') AS ref\n",
    "    FROM\n",
    "        (\n",
    "        SELECT schemaname, 't' AS obj_type, tablename AS objectname, QUOTE_IDENT(schemaname) || '.' || QUOTE_IDENT(tablename) AS fullobj FROM pg_tables\n",
    "        WHERE schemaname not in ('pg_internal')\n",
    "        UNION\n",
    "        SELECT schemaname, 'v' AS obj_type, viewname AS objectname, QUOTE_IDENT(schemaname) || '.' || QUOTE_IDENT(viewname) AS fullobj FROM pg_views\n",
    "        WHERE schemaname not in ('pg_internal')\n",
    "        ) AS objs\n",
    "        ,(SELECT * FROM pg_user) AS usrs\n",
    "    ORDER BY fullobj\n",
    "    )\n",
    "WHERE (sel = true or ins = true or upd = true or del = true or ref = true)\n",
    ";\n",
    "\"\"\")\n",
    "conn.commit()"
   ]
  },
  {
   "cell_type": "code",
   "execution_count": 5,
   "metadata": {},
   "outputs": [],
   "source": [
    "def create_schema(name):\n",
    "    c.execute(f\"CREATE SCHEMA if not exists {name};\")\n",
    "\n",
    "\n",
    "def create_group(name):\n",
    "    c.execute(f\"CREATE GROUP {name};\")\n",
    "\n",
    "\n",
    "def grant_usage_and_select(schema, group):\n",
    "    c.execute(f\"GRANT USAGE on SCHEMA {schema} to GROUP {group};\")\n",
    "    c.execute(f\"GRANT SELECT ON ALL TABLES IN SCHEMA {schema} TO GROUP {group};\")\n",
    "\n",
    "\n",
    "def create_fake_users(num_users):\n",
    "    fake_list = []\n",
    "    for _ in range(num_users):\n",
    "        first = fake.first_name().lower()\n",
    "        last = fake.last_name().lower()\n",
    "        full = f'{first}_{last}'\n",
    "\n",
    "        fake_list.append(full)\n",
    "    return fake_list\n",
    "\n",
    "\n",
    "def add_users_to_group(users, group):\n",
    "    for user in users:\n",
    "\n",
    "        c.execute(f\"CREATE USER {user} password 'xyzzy-1-XYZZY';\")\n",
    "        c.execute(f\"ALTER GROUP {group} ADD USER {user};\")\n",
    "\n",
    "\n",
    "def delete_schemas():\n",
    "    for schema in schemas:\n",
    "        try:\n",
    "            c.execute(f\"drop schema if exists {schema} cascade;\")\n",
    "        except Exception:\n",
    "            continue\n",
    "\n",
    "\n",
    "def delete_groups():\n",
    "    for group in groups:\n",
    "        try:\n",
    "            c.execute(f\"drop group {group};\")\n",
    "        except Exception:\n",
    "            continue\n",
    "\n",
    "\n",
    "def delete_users():\n",
    "    try:\n",
    "        all_users = c.execute('select * from pg_user;').fetchall()\n",
    "    except UnicodeDecodeError:\n",
    "        all_users = c.execute('select * from pg_user;').fetchall()\n",
    "    protected_users = ['chris-birch-admin']\n",
    "    new_owner = 'chris-birch-admin'\n",
    "    users_to_drop = [user[0] for user in all_users if user[0] not in protected_users]\n",
    "\n",
    "    # Templates to change ownership, revoke permissions, and drop users\n",
    "    change_ownership = \"select 'alter table '+schemaname+'.'+tablename+' owner to %s;' from pg_tables where tableowner like '%s'\"\n",
    "    revoke_schema_permissions = \"select distinct 'revoke all on schema '+schemaname+' from %s;' from admin.v_get_obj_priv_by_user where usename like '%s'\"\n",
    "    revoke_table_permissions = \"select distinct 'revoke all on all tables in schema '+schemaname+' from %s;' from admin.v_get_obj_priv_by_user where usename like '%s'\"\n",
    "    drop_user = \"drop user %s;\"\n",
    "\n",
    "    for user in users_to_drop:\n",
    "        # Change ownership\n",
    "        c.execute(change_ownership % (new_owner, user))\n",
    "        for r in c.fetchall():\n",
    "            print(\"Executing: %s\" % r[0])\n",
    "            c.execute(r[0])\n",
    "        # Revoke schema permissions\n",
    "        c.execute(revoke_schema_permissions % (user, user))\n",
    "        for r in c.fetchall():\n",
    "            print(\"Executing: %s\" % r[0])\n",
    "            c.execute(r[0])\n",
    "        # Revoke table permissions\n",
    "        c.execute(revoke_table_permissions % (user, user))\n",
    "        for r in c.fetchall():\n",
    "            print(\"Executing: %s\" % r[0])\n",
    "            c.execute(r[0])\n",
    "        # Drop user\n",
    "        c.execute(drop_user % (user))\n",
    "    conn.commit()\n",
    "\n",
    "\n",
    "def create_table(table):\n",
    "    c.execute(f'create table {table} (colors varchar(20))')\n",
    "\n",
    "\n",
    "def _make_tuple_colors(num):\n",
    "    return tuple(zip([fake.color_name() for _ in range(num)]))\n",
    "\n",
    "\n",
    "def insert_colors_in_table(table):\n",
    "    c.executemany(f'insert into {table} (colors) values (%s)', _make_tuple_colors(20))\n"
   ]
  },
  {
   "cell_type": "code",
   "execution_count": 6,
   "metadata": {},
   "outputs": [],
   "source": [
    "delete_schemas()\n",
    "conn.commit()"
   ]
  },
  {
   "cell_type": "code",
   "execution_count": 7,
   "metadata": {},
   "outputs": [],
   "source": [
    "delete_groups()\n",
    "conn.commit()"
   ]
  },
  {
   "cell_type": "code",
   "execution_count": 8,
   "metadata": {},
   "outputs": [
    {
     "ename": "ProgrammingError",
     "evalue": "{'S': 'ERROR', 'C': '3F000', 'M': 'schema \"admin\" does not exist', 'F': '/home/ec2-user/padb/src/pg/src/backend/parser/parse_relation.c', 'L': '4836', 'R': 'CheckUnnestValidNavigation'}",
     "output_type": "error",
     "traceback": [
      "\u001b[0;31m---------------------------------------------------------------------------\u001b[0m",
      "\u001b[0;31mProgrammingError\u001b[0m                          Traceback (most recent call last)",
      "\u001b[0;32m/var/folders/bs/c6nd19gd0g947t2sj57bskth0000gn/T/ipykernel_93022/2937584204.py\u001b[0m in \u001b[0;36m<module>\u001b[0;34m\u001b[0m\n\u001b[0;32m----> 1\u001b[0;31m \u001b[0mdelete_users\u001b[0m\u001b[0;34m(\u001b[0m\u001b[0;34m)\u001b[0m\u001b[0;34m\u001b[0m\u001b[0;34m\u001b[0m\u001b[0m\n\u001b[0m\u001b[1;32m      2\u001b[0m \u001b[0mconn\u001b[0m\u001b[0;34m.\u001b[0m\u001b[0mcommit\u001b[0m\u001b[0;34m(\u001b[0m\u001b[0;34m)\u001b[0m\u001b[0;34m\u001b[0m\u001b[0;34m\u001b[0m\u001b[0m\n",
      "\u001b[0;32m/var/folders/bs/c6nd19gd0g947t2sj57bskth0000gn/T/ipykernel_93022/4103118424.py\u001b[0m in \u001b[0;36mdelete_users\u001b[0;34m()\u001b[0m\n\u001b[1;32m     68\u001b[0m             \u001b[0mc\u001b[0m\u001b[0;34m.\u001b[0m\u001b[0mexecute\u001b[0m\u001b[0;34m(\u001b[0m\u001b[0mr\u001b[0m\u001b[0;34m[\u001b[0m\u001b[0;36m0\u001b[0m\u001b[0;34m]\u001b[0m\u001b[0;34m)\u001b[0m\u001b[0;34m\u001b[0m\u001b[0;34m\u001b[0m\u001b[0m\n\u001b[1;32m     69\u001b[0m         \u001b[0;31m# Revoke schema permissions\u001b[0m\u001b[0;34m\u001b[0m\u001b[0;34m\u001b[0m\u001b[0;34m\u001b[0m\u001b[0m\n\u001b[0;32m---> 70\u001b[0;31m         \u001b[0mc\u001b[0m\u001b[0;34m.\u001b[0m\u001b[0mexecute\u001b[0m\u001b[0;34m(\u001b[0m\u001b[0mrevoke_schema_permissions\u001b[0m \u001b[0;34m%\u001b[0m \u001b[0;34m(\u001b[0m\u001b[0muser\u001b[0m\u001b[0;34m,\u001b[0m \u001b[0muser\u001b[0m\u001b[0;34m)\u001b[0m\u001b[0;34m)\u001b[0m\u001b[0;34m\u001b[0m\u001b[0;34m\u001b[0m\u001b[0m\n\u001b[0m\u001b[1;32m     71\u001b[0m         \u001b[0;32mfor\u001b[0m \u001b[0mr\u001b[0m \u001b[0;32min\u001b[0m \u001b[0mc\u001b[0m\u001b[0;34m.\u001b[0m\u001b[0mfetchall\u001b[0m\u001b[0;34m(\u001b[0m\u001b[0;34m)\u001b[0m\u001b[0;34m:\u001b[0m\u001b[0;34m\u001b[0m\u001b[0;34m\u001b[0m\u001b[0m\n\u001b[1;32m     72\u001b[0m             \u001b[0mprint\u001b[0m\u001b[0;34m(\u001b[0m\u001b[0;34m\"Executing: %s\"\u001b[0m \u001b[0;34m%\u001b[0m \u001b[0mr\u001b[0m\u001b[0;34m[\u001b[0m\u001b[0;36m0\u001b[0m\u001b[0;34m]\u001b[0m\u001b[0;34m)\u001b[0m\u001b[0;34m\u001b[0m\u001b[0;34m\u001b[0m\u001b[0m\n",
      "\u001b[0;32m~/github/projects/redshift_connect/.venv/lib/python3.8/site-packages/redshift_connector/cursor.py\u001b[0m in \u001b[0;36mexecute\u001b[0;34m(self, operation, args, stream, merge_socket_read)\u001b[0m\n\u001b[1;32m    209\u001b[0m                 \u001b[0mself\u001b[0m\u001b[0;34m.\u001b[0m\u001b[0m_c\u001b[0m\u001b[0;34m.\u001b[0m\u001b[0mexecute\u001b[0m\u001b[0;34m(\u001b[0m\u001b[0mself\u001b[0m\u001b[0;34m,\u001b[0m \u001b[0;34m\"begin transaction\"\u001b[0m\u001b[0;34m,\u001b[0m \u001b[0;32mNone\u001b[0m\u001b[0;34m)\u001b[0m\u001b[0;34m\u001b[0m\u001b[0;34m\u001b[0m\u001b[0m\n\u001b[1;32m    210\u001b[0m             \u001b[0mself\u001b[0m\u001b[0;34m.\u001b[0m\u001b[0m_c\u001b[0m\u001b[0;34m.\u001b[0m\u001b[0mmerge_socket_read\u001b[0m \u001b[0;34m=\u001b[0m \u001b[0mmerge_socket_read\u001b[0m\u001b[0;34m\u001b[0m\u001b[0;34m\u001b[0m\u001b[0m\n\u001b[0;32m--> 211\u001b[0;31m             \u001b[0mself\u001b[0m\u001b[0;34m.\u001b[0m\u001b[0m_c\u001b[0m\u001b[0;34m.\u001b[0m\u001b[0mexecute\u001b[0m\u001b[0;34m(\u001b[0m\u001b[0mself\u001b[0m\u001b[0;34m,\u001b[0m \u001b[0moperation\u001b[0m\u001b[0;34m,\u001b[0m \u001b[0margs\u001b[0m\u001b[0;34m)\u001b[0m\u001b[0;34m\u001b[0m\u001b[0;34m\u001b[0m\u001b[0m\n\u001b[0m\u001b[1;32m    212\u001b[0m         \u001b[0;32mexcept\u001b[0m \u001b[0mAttributeError\u001b[0m \u001b[0;32mas\u001b[0m \u001b[0me\u001b[0m\u001b[0;34m:\u001b[0m\u001b[0;34m\u001b[0m\u001b[0;34m\u001b[0m\u001b[0m\n\u001b[1;32m    213\u001b[0m             \u001b[0;32mraise\u001b[0m \u001b[0me\u001b[0m\u001b[0;34m\u001b[0m\u001b[0;34m\u001b[0m\u001b[0m\n",
      "\u001b[0;32m~/github/projects/redshift_connect/.venv/lib/python3.8/site-packages/redshift_connector/core.py\u001b[0m in \u001b[0;36mexecute\u001b[0;34m(self, cursor, operation, vals)\u001b[0m\n\u001b[1;32m   1273\u001b[0m             \u001b[0mself\u001b[0m\u001b[0;34m.\u001b[0m\u001b[0mhandle_messages_merge_socket_read\u001b[0m\u001b[0;34m(\u001b[0m\u001b[0mcursor\u001b[0m\u001b[0;34m)\u001b[0m\u001b[0;34m\u001b[0m\u001b[0;34m\u001b[0m\u001b[0m\n\u001b[1;32m   1274\u001b[0m         \u001b[0;32melse\u001b[0m\u001b[0;34m:\u001b[0m\u001b[0;34m\u001b[0m\u001b[0;34m\u001b[0m\u001b[0m\n\u001b[0;32m-> 1275\u001b[0;31m             \u001b[0mself\u001b[0m\u001b[0;34m.\u001b[0m\u001b[0mhandle_messages\u001b[0m\u001b[0;34m(\u001b[0m\u001b[0mcursor\u001b[0m\u001b[0;34m)\u001b[0m\u001b[0;34m\u001b[0m\u001b[0;34m\u001b[0m\u001b[0m\n\u001b[0m\u001b[1;32m   1276\u001b[0m \u001b[0;34m\u001b[0m\u001b[0m\n\u001b[1;32m   1277\u001b[0m     \u001b[0;32mdef\u001b[0m \u001b[0m_send_message\u001b[0m\u001b[0;34m(\u001b[0m\u001b[0mself\u001b[0m\u001b[0;34m:\u001b[0m \u001b[0;34m\"Connection\"\u001b[0m\u001b[0;34m,\u001b[0m \u001b[0mcode\u001b[0m\u001b[0;34m:\u001b[0m \u001b[0mbytes\u001b[0m\u001b[0;34m,\u001b[0m \u001b[0mdata\u001b[0m\u001b[0;34m:\u001b[0m \u001b[0mbytes\u001b[0m\u001b[0;34m)\u001b[0m \u001b[0;34m->\u001b[0m \u001b[0;32mNone\u001b[0m\u001b[0;34m:\u001b[0m\u001b[0;34m\u001b[0m\u001b[0;34m\u001b[0m\u001b[0m\n",
      "\u001b[0;32m~/github/projects/redshift_connect/.venv/lib/python3.8/site-packages/redshift_connector/core.py\u001b[0m in \u001b[0;36mhandle_messages\u001b[0;34m(self, cursor)\u001b[0m\n\u001b[1;32m   1356\u001b[0m \u001b[0;34m\u001b[0m\u001b[0m\n\u001b[1;32m   1357\u001b[0m         \u001b[0;32mif\u001b[0m \u001b[0mself\u001b[0m\u001b[0;34m.\u001b[0m\u001b[0merror\u001b[0m \u001b[0;32mis\u001b[0m \u001b[0;32mnot\u001b[0m \u001b[0;32mNone\u001b[0m\u001b[0;34m:\u001b[0m\u001b[0;34m\u001b[0m\u001b[0;34m\u001b[0m\u001b[0m\n\u001b[0;32m-> 1358\u001b[0;31m             \u001b[0;32mraise\u001b[0m \u001b[0mself\u001b[0m\u001b[0;34m.\u001b[0m\u001b[0merror\u001b[0m\u001b[0;34m\u001b[0m\u001b[0;34m\u001b[0m\u001b[0m\n\u001b[0m\u001b[1;32m   1359\u001b[0m \u001b[0;34m\u001b[0m\u001b[0m\n\u001b[1;32m   1360\u001b[0m     \u001b[0;32mdef\u001b[0m \u001b[0mhandle_messages_merge_socket_read\u001b[0m\u001b[0;34m(\u001b[0m\u001b[0mself\u001b[0m\u001b[0;34m:\u001b[0m \u001b[0;34m\"Connection\"\u001b[0m\u001b[0;34m,\u001b[0m \u001b[0mcursor\u001b[0m\u001b[0;34m:\u001b[0m \u001b[0mCursor\u001b[0m\u001b[0;34m)\u001b[0m\u001b[0;34m:\u001b[0m\u001b[0;34m\u001b[0m\u001b[0;34m\u001b[0m\u001b[0m\n",
      "\u001b[0;31mProgrammingError\u001b[0m: {'S': 'ERROR', 'C': '3F000', 'M': 'schema \"admin\" does not exist', 'F': '/home/ec2-user/padb/src/pg/src/backend/parser/parse_relation.c', 'L': '4836', 'R': 'CheckUnnestValidNavigation'}"
     ]
    }
   ],
   "source": [
    "delete_users()\n",
    "conn.commit()"
   ]
  },
  {
   "cell_type": "code",
   "execution_count": null,
   "metadata": {},
   "outputs": [],
   "source": [
    "for schema in schemas:\n",
    "    create_schema(schema)\n",
    "conn.commit()\n",
    "for schema in schemas:\n",
    "    for table in tables:\n",
    "        full_table = f'{schema}.{table}'\n",
    "        create_table(full_table)\n",
    "        insert_colors_in_table(full_table)\n",
    "conn.commit()"
   ]
  },
  {
   "cell_type": "code",
   "execution_count": null,
   "metadata": {},
   "outputs": [],
   "source": [
    "for group in groups:\n",
    "    create_group(group)\n",
    "    users = create_fake_users(20)\n",
    "    add_users_to_group(users, group)"
   ]
  },
  {
   "cell_type": "code",
   "execution_count": null,
   "metadata": {},
   "outputs": [],
   "source": [
    "for schema in schema_group_permissions:\n",
    "    grant_usage_and_select(schema, schema_group_permissions.get(schema))"
   ]
  },
  {
   "cell_type": "code",
   "execution_count": null,
   "metadata": {},
   "outputs": [],
   "source": [
    "c.execute('select * from schema_parts.table_a')\n",
    "c.fetch_dataframe()"
   ]
  },
  {
   "cell_type": "code",
   "execution_count": null,
   "metadata": {},
   "outputs": [],
   "source": [
    "def check_schema_exists(schema):\n",
    "    sql = f\"\"\"\n",
    "    select exists (\n",
    "      select * from pg_tables\n",
    "      where schemaname = '{schema}'\n",
    "    );\n",
    "    \"\"\"\n",
    "    return c.execute(sql).fetchone()[0]\n",
    "\n",
    "def check_table_exists(schema, table):\n",
    "    sql = f\"\"\"\n",
    "    select exists (\n",
    "      select * from pg_tables\n",
    "      where schemaname = '{schema}'\n",
    "      and tablename = '{table}'\n",
    "    );\n",
    "    \"\"\"\n",
    "    return c.execute(sql).fetchone()[0]"
   ]
  },
  {
   "cell_type": "code",
   "execution_count": null,
   "metadata": {},
   "outputs": [],
   "source": [
    "def check_schema_table_exists(schema_tables):\n",
    "    error_list = []\n",
    "    for st in schema_tables:\n",
    "        s, t = st.split('.')\n",
    "        schema_exists = check_schema_exists(s)\n",
    "        table_exists = check_table_exists(s, t)\n",
    "        if schema_exists == False:\n",
    "            error_list.append(f\"SCHEMA '{s}' does not exist.\")\n",
    "            continue\n",
    "        if schema_exists == True and table_exists == False:\n",
    "            error_list.append(f\"TABLE '{t}' does not exist inside SCHEMA '{s}'\")\n",
    "    return sorted(list(set(error_list)))"
   ]
  },
  {
   "cell_type": "code",
   "execution_count": null,
   "metadata": {},
   "outputs": [],
   "source": [
    "check_schema_table_exists(test_schemas)"
   ]
  },
  {
   "cell_type": "code",
   "execution_count": null,
   "metadata": {},
   "outputs": [],
   "source": [
    "def get_users_in_security_groups(security_groups):\n",
    "    for sg in security_groups:\n",
    "        # get the username column\n",
    "        pass\n",
    "\n",
    "def get_users_with_no_security_groups(security_groups):\n",
    "    for sg in security_groups:\n",
    "        # get the username column\n",
    "        pass"
   ]
  },
  {
   "cell_type": "code",
   "execution_count": null,
   "metadata": {},
   "outputs": [],
   "source": [
    "c.execute('revoke all on all from all for all;')\n"
   ]
  },
  {
   "cell_type": "markdown",
   "metadata": {},
   "source": [
    "# Demo\n",
    "- https://blog.satoricyber.com/hardening-aws-redshift-security-access-controls-explained"
   ]
  },
  {
   "cell_type": "markdown",
   "metadata": {},
   "source": [
    "# Users and Groups"
   ]
  },
  {
   "cell_type": "code",
   "execution_count": null,
   "metadata": {},
   "outputs": [],
   "source": []
  },
  {
   "cell_type": "code",
   "execution_count": null,
   "metadata": {},
   "outputs": [],
   "source": [
    "\n",
    "\n"
   ]
  },
  {
   "cell_type": "code",
   "execution_count": null,
   "metadata": {},
   "outputs": [],
   "source": [
    "# view assigned roles to users\n",
    "c.execute(\"\"\"\n",
    "SELECT usename AS user_name, groname AS group_name \n",
    "FROM pg_user, pg_group\n",
    "WHERE pg_user.usesysid = ANY(pg_group.grolist)\n",
    "AND pg_group.groname in (SELECT DISTINCT pg_group.groname from pg_group)\n",
    "\"\"\"\n",
    ").fetch_dataframe()"
   ]
  },
  {
   "cell_type": "code",
   "execution_count": null,
   "metadata": {},
   "outputs": [],
   "source": [
    "c.execute('select * from pg_group;').fetch_dataframe()"
   ]
  },
  {
   "cell_type": "code",
   "execution_count": null,
   "metadata": {},
   "outputs": [],
   "source": [
    "c.execute('select nspname from pg_catalog.pg_namespace;').fetch_dataframe()"
   ]
  },
  {
   "cell_type": "code",
   "execution_count": null,
   "metadata": {},
   "outputs": [],
   "source": [
    "c.execute(\"select nspname from pg_catalog.pg_namespace where nspname like '%schema' \").fetch_dataframe()"
   ]
  },
  {
   "cell_type": "code",
   "execution_count": null,
   "metadata": {},
   "outputs": [],
   "source": [
    "shipping_table_sql = \"\"\"\n",
    "CREATE TABLE sales.orders (\n",
    "order_id varchar(255), order_checksum int, shipping_firstname varchar(50), \n",
    "shipping_middlename varchar(25), shipping_lastname varchar(50), \n",
    "shipping_street1 varchar(255), shipping_street2 varchar(255), \n",
    "shipping_street3 varchar(255), shipping_zipcode varchar(15), \n",
    "shipping_pob varchar(15), shipping_city varchar(50), \n",
    "shipping_phone1 varchar(50), shipping_phone2 varchar(50), \n",
    "shipping_cellular varchar(50), shipping_hours varchar(50), \n",
    "shipping_comments varchar(255), payer_creditcard varchar(19), \n",
    "payer_expmonth varchar(2), payer_expyear varchar(4), \n",
    "payer_firstname varchar(50), payer_middlename varchar(25), \n",
    "payer_lastname varchar(50), payer_street1 varchar(255), \n",
    "payer_street2 varchar(255), payer_street3 varchar(255), \n",
    "payer_zipcode varchar(15), payer_pob varchar(15), payer_city varchar(50), \n",
    "payer_phone1 varchar(50), payer_phone2 varchar(50), payer_cellular varchar(50), \n",
    "payer_hours varchar(50), payer_comments varchar(255));\n",
    "\"\"\"\n",
    "c.execute(shipping_table_sql)"
   ]
  },
  {
   "cell_type": "code",
   "execution_count": null,
   "metadata": {},
   "outputs": [],
   "source": [
    "# create user with read-only access to orders table\n",
    "c.execute(\"CREATE USER shipping PASSWORD 'xyzzy-1-XYZZY';\")\n",
    "c.execute(\"GRANT SELECT ON sales.orders TO shipping;\")"
   ]
  },
  {
   "cell_type": "markdown",
   "metadata": {},
   "source": [
    "## Column Level Security"
   ]
  },
  {
   "cell_type": "code",
   "execution_count": null,
   "metadata": {},
   "outputs": [],
   "source": [
    "# Revoking the existing SELECT privilege on the entire table\n",
    "c.execute(\"REVOKE SELECT ON sales.orders FROM shipping;\")\n",
    "# Granting SELECT privilege specifically to all columns except for the forbidden ones\n",
    "c.execute(\"\"\"\n",
    "GRANT SELECT(order_id, order_checksum, shipping_firstname, \n",
    "shipping_middlename, shipping_lastname, shipping_street1,\n",
    "shipping_street2, shipping_street3, shipping_zipcode, shipping_pob, \n",
    "shipping_city, shipping_phone1, shipping_phone2, shipping_cellular, \n",
    "shipping_hours, shipping_comments, payer_firstname, payer_middlename,\n",
    "payer_lastname, payer_street1, payer_street2, payer_street3, payer_zipcode, \n",
    "payer_pob, payer_city, payer_phone1, payer_phone2, payer_cellular, \n",
    "payer_hours, payer_comments)\n",
    "ON sales.orders TO shipping\"\"\"\n",
    ")\n"
   ]
  },
  {
   "cell_type": "markdown",
   "metadata": {},
   "source": [
    "## Row Level Security"
   ]
  },
  {
   "cell_type": "code",
   "execution_count": null,
   "metadata": {},
   "outputs": [],
   "source": [
    "c.execute(\"\"\"\n",
    "CREATE TABLE department_employees (\n",
    "id int,\n",
    "name varchar(50),\n",
    "phone varchar(50),\n",
    "salary smallint,\n",
    "department varchar(50));\n",
    "\"\"\")\n",
    "\n",
    "c.execute(\"\"\"\n",
    "INSERT INTO department_employees VALUES\n",
    "(1, 'Seller McSeller', '+1-212-5555555', 180, 'sales'),\n",
    "(2, 'Sir Sell-A-Lot', '+1-212-5556666', 240, 'sales'),\n",
    "(3, 'Marky McMarket', '+1-716-5555555', 210, 'marketing'),\n",
    "(4, 'Sir Market-A-Lot', '+1-716-5556666', 270, 'marketing');\n",
    "\"\"\")"
   ]
  },
  {
   "cell_type": "code",
   "execution_count": null,
   "metadata": {},
   "outputs": [],
   "source": [
    "c.execute(\"\"\"\n",
    "CREATE TABLE users_to_groups\n",
    "(user_name varchar(100), group_name varchar(100));\n",
    "\"\"\")\n",
    "\n",
    "c.execute(\"\"\"\n",
    "INSERT INTO users_to_groups VALUES\n",
    "('marketing_accountant', 'marketing');\n",
    "\"\"\")\n",
    "\n",
    "# Let's also create an accountant user\n",
    "c.execute(\"\"\"\n",
    "CREATE USER marketing_accountant WITH PASSWORD 'xyzzy-1-XYZZY';\n",
    "\"\"\")"
   ]
  },
  {
   "cell_type": "code",
   "execution_count": null,
   "metadata": {},
   "outputs": [],
   "source": [
    "c.execute(\"SELECT * FROM department_employees WHERE department IN (SELECT group_name FROM users_to_groups WHERE user_name='marketing_accountant')\").fetch_dataframe()"
   ]
  },
  {
   "cell_type": "code",
   "execution_count": null,
   "metadata": {},
   "outputs": [],
   "source": [
    "c.execute(\"\"\"\n",
    "CREATE VIEW v_department_employees AS\n",
    "SELECT * FROM department_employees\n",
    "WHERE department IN (SELECT group_name FROM users_to_groups WHERE user_name=CURRENT_USER);\n",
    "\"\"\")"
   ]
  },
  {
   "cell_type": "code",
   "execution_count": null,
   "metadata": {},
   "outputs": [],
   "source": [
    "\n",
    "# Granting access to the user in views\n",
    "c.execute(\"GRANT SELECT ON users_to_groups TO marketing_accountant;\")\n",
    "c.execute(\"GRANT SELECT ON v_department_employees TO marketing_accountant;\")\n"
   ]
  },
  {
   "cell_type": "code",
   "execution_count": null,
   "metadata": {},
   "outputs": [],
   "source": [
    "\n",
    "# Switching to use the context of the user 'marketing_accountant'\n",
    "c.execute(\"SET SESSION AUTHORIZATION marketing_accountant;\")\n",
    "c.execute(\"SELECT * FROM department_employees;\").fetchall()\n",
    "\n",
    "#  We get a permission denied error, as we don't have access to the table itself:\n",
    "#  Invalid operation: permission denied for relation department_employees\n"
   ]
  },
  {
   "cell_type": "code",
   "execution_count": null,
   "metadata": {},
   "outputs": [],
   "source": [
    "\n",
    "# We now get the filtered rows */\n",
    "c.execute(\"SELECT * FROM v_department_employees;\").fetch_dataframe()"
   ]
  },
  {
   "cell_type": "code",
   "execution_count": null,
   "metadata": {},
   "outputs": [],
   "source": [
    "c.execute(\"SET SESSION AUTHORIZATION 'chris-birch-admin';\")\n",
    "c.execute(\"SELECT * FROM department_employees;\").fetch_dataframe()"
   ]
  },
  {
   "cell_type": "code",
   "execution_count": null,
   "metadata": {},
   "outputs": [],
   "source": [
    "# look for failed logins\n",
    "c.execute(\"\"\"\n",
    "SELECT *\n",
    "FROM stl_connection_log\n",
    "WHERE event='authentication failure'\n",
    "ORDER BY recordtime;\n",
    "\"\"\").fetch_dataframe()"
   ]
  },
  {
   "cell_type": "code",
   "execution_count": null,
   "metadata": {},
   "outputs": [],
   "source": [
    "# show successful auth users by hour\n",
    "c.execute(\"\"\"\n",
    "SELECT DATE_PART(YEAR, recordtime) || '-' ||\n",
    "\tLPAD(DATE_PART(MONTH, recordtime),2,'0') || '-' ||\n",
    "\tLPAD(DATE_PART(DAY, recordtime),2,'0') || ' ' ||\n",
    "\tLPAD(DATE_PART(HOUR, recordtime),2,'0') AS hour_bucket, username, COUNT(*)\n",
    "FROM stl_connection_log\n",
    "WHERE event = 'authenticated'\n",
    "GROUP BY 1, 2\n",
    "ORDER BY 1, 2 DESC;\n",
    "\"\"\").fetch_dataframe()"
   ]
  },
  {
   "cell_type": "code",
   "execution_count": null,
   "metadata": {},
   "outputs": [],
   "source": [
    "# successful auth by hour, exclude rdsdb\n",
    "c.execute(\"\"\"\n",
    "SELECT DATE_PART(YEAR, recordtime) || '-' ||\n",
    "\tLPAD(DATE_PART(MONTH, recordtime),2,'0') || '-' ||\n",
    "\tLPAD(DATE_PART(DAY, recordtime),2,'0') || ' ' ||\n",
    "\tLPAD(DATE_PART(HOUR, recordtime),2,'0') AS hour_bucket, username, COUNT(*)\n",
    "FROM stl_connection_log\n",
    "WHERE event = 'authenticated'\n",
    "AND username != 'rdsdb'\n",
    "GROUP BY 1, 2\n",
    "ORDER BY 1, 2 DESC;\n",
    "\"\"\").fetch_dataframe()"
   ]
  },
  {
   "cell_type": "code",
   "execution_count": null,
   "metadata": {},
   "outputs": [],
   "source": [
    "# show successful auth by number of auth\n",
    "c.execute(\"\"\"\n",
    "SELECT username, event, COUNT(*)\n",
    "FROM stl_connection_log\n",
    "WHERE event = 'authenticated'\n",
    "GROUP BY 1, 2\n",
    "ORDER BY 3 DESC;\n",
    "\"\"\").fetch_dataframe()"
   ]
  },
  {
   "cell_type": "code",
   "execution_count": null,
   "metadata": {},
   "outputs": [],
   "source": [
    "# connection drivers used\n",
    "c.execute(\"\"\"\n",
    "SELECT username, application_name, COUNT(*) \n",
    "FROM stl_connection_log\n",
    "WHERE application_name != ''\n",
    "GROUP BY 1,2\n",
    "ORDER BY 1,2;\n",
    "\"\"\").fetch_dataframe()"
   ]
  },
  {
   "cell_type": "code",
   "execution_count": null,
   "metadata": {},
   "outputs": [],
   "source": [
    "c.execute(\"\"\"\n",
    "SELECT * FROM STL_QUERY\n",
    "LIMIT 100;\n",
    "\"\"\").fetch_dataframe()"
   ]
  },
  {
   "cell_type": "code",
   "execution_count": null,
   "metadata": {},
   "outputs": [],
   "source": [
    "# view permissions for 'user' on 'schema'\n",
    "c.execute(\"\"\"\n",
    "SELECT\n",
    "    u.usename,\n",
    "    s.schemaname,\n",
    "    has_schema_privilege(u.usename,s.schemaname,'create') AS create_permission,\n",
    "    has_schema_privilege(u.usename,s.schemaname,'usage') AS usage_permission\n",
    "FROM\n",
    "    pg_user u\n",
    "CROSS JOIN\n",
    "    (SELECT DISTINCT schemaname FROM pg_tables) s\n",
    "WHERE\n",
    "    u.usename = 'chris-birch-admin'\n",
    "    AND s.schemaname = 'second_schema';\n",
    "\"\"\").fetch_dataframe()"
   ]
  },
  {
   "cell_type": "code",
   "execution_count": null,
   "metadata": {},
   "outputs": [],
   "source": [
    "# view all permissions for all users\n",
    "c.execute(\"\"\"\n",
    "SELECT\n",
    "    u.usename,\n",
    "    s.schemaname,\n",
    "    has_schema_privilege(u.usename,s.schemaname,'create') AS create_permission,\n",
    "    has_schema_privilege(u.usename,s.schemaname,'usage') AS usage_permission\n",
    "FROM\n",
    "    pg_user u\n",
    "CROSS JOIN\n",
    "    (SELECT DISTINCT schemaname FROM pg_tables) s;\n",
    "\"\"\").fetch_dataframe()"
   ]
  },
  {
   "cell_type": "code",
   "execution_count": null,
   "metadata": {},
   "outputs": [],
   "source": [
    "# user has permissions on specific table\n",
    "c.execute(\"\"\"\n",
    "SELECT * \n",
    "FROM \n",
    "    (\n",
    "    SELECT \n",
    "        schemaname\n",
    "        ,objectname\n",
    "        ,usename\n",
    "        ,HAS_TABLE_PRIVILEGE(usrs.usename, fullobj, 'select') AND has_schema_privilege(usrs.usename, schemaname, 'usage')  AS sel\n",
    "        ,HAS_TABLE_PRIVILEGE(usrs.usename, fullobj, 'insert') AND has_schema_privilege(usrs.usename, schemaname, 'usage')  AS ins\n",
    "        ,HAS_TABLE_PRIVILEGE(usrs.usename, fullobj, 'update') AND has_schema_privilege(usrs.usename, schemaname, 'usage')  AS upd\n",
    "        ,HAS_TABLE_PRIVILEGE(usrs.usename, fullobj, 'delete') AND has_schema_privilege(usrs.usename, schemaname, 'usage')  AS del\n",
    "        ,HAS_TABLE_PRIVILEGE(usrs.usename, fullobj, 'references') AND has_schema_privilege(usrs.usename, schemaname, 'usage')  AS ref\n",
    "    FROM\n",
    "        (\n",
    "        SELECT schemaname, 't' AS obj_type, tablename AS objectname, schemaname + '.' + tablename AS fullobj FROM pg_tables\n",
    "        WHERE schemaname not in ('pg_internal')\n",
    "        UNION\n",
    "        SELECT schemaname, 'v' AS obj_type, viewname AS objectname, schemaname + '.' + viewname AS fullobj FROM pg_views\n",
    "        WHERE schemaname not in ('pg_internal')\n",
    "        ) AS objs\n",
    "        ,(SELECT * FROM pg_user) AS usrs\n",
    "    ORDER BY fullobj\n",
    "    )\n",
    "WHERE (sel = true or ins = true or upd = true or del = true or ref = true)\n",
    "and schemaname='third_schema'\n",
    "and objectname='b'\n",
    "and usename = 'chris-birch-admin';\n",
    "\"\"\").fetch_dataframe()"
   ]
  },
  {
   "cell_type": "code",
   "execution_count": null,
   "metadata": {},
   "outputs": [],
   "source": [
    "df('select default_iam_role();')"
   ]
  },
  {
   "cell_type": "code",
   "execution_count": null,
   "metadata": {},
   "outputs": [],
   "source": [
    "df('select user, current_user_id;')"
   ]
  },
  {
   "cell_type": "code",
   "execution_count": null,
   "metadata": {},
   "outputs": [],
   "source": [
    "df('select user, current_aws_account, current_database(), current_schema();')"
   ]
  },
  {
   "cell_type": "markdown",
   "metadata": {},
   "source": [
    "# Audit Logs"
   ]
  },
  {
   "cell_type": "code",
   "execution_count": null,
   "metadata": {},
   "outputs": [],
   "source": [
    "df('select * from stl_connection_log;')"
   ]
  },
  {
   "cell_type": "code",
   "execution_count": null,
   "metadata": {},
   "outputs": [],
   "source": [
    "c.execute(\"\"\"\n",
    "select * from stl_userlog;\n",
    "\"\"\").fetch_dataframe()"
   ]
  },
  {
   "cell_type": "code",
   "execution_count": null,
   "metadata": {},
   "outputs": [],
   "source": [
    "c.execute(\"\"\"\n",
    "select * from stl_query;\n",
    "\"\"\").fetch_dataframe()"
   ]
  },
  {
   "cell_type": "code",
   "execution_count": null,
   "metadata": {},
   "outputs": [],
   "source": [
    "# last 10 queries run on the cluster\n",
    "df(\"\"\"\n",
    "SELECT query, \n",
    "LISTAGG(CASE WHEN LEN(RTRIM(text)) = 0 THEN text ELSE RTRIM(text) END) WITHIN GROUP (ORDER BY sequence) AS query_statement, COUNT(*) as row_count \n",
    "FROM stl_querytext\n",
    "GROUP BY query\n",
    "ORDER BY query desc\n",
    "LIMIT 10;\n",
    "\"\"\")"
   ]
  },
  {
   "cell_type": "code",
   "execution_count": null,
   "metadata": {},
   "outputs": [],
   "source": [
    "# top 10 longest queries\n",
    "df(\"\"\"\n",
    "WITH queries AS (\n",
    "SELECT query, \n",
    "LISTAGG(CASE WHEN LEN(RTRIM(text)) = 0 THEN text ELSE RTRIM(text) END) WITHIN GROUP (ORDER BY sequence) AS query_statement, COUNT(*) as row_count \n",
    "FROM stl_querytext\n",
    "GROUP BY query)\n",
    "SELECT * FROM queries WHERE query_statement ILIKE 'select%'\n",
    "ORDER BY LEN(query_statement) DESC \n",
    "LIMIT 10;\n",
    "\"\"\")"
   ]
  },
  {
   "cell_type": "code",
   "execution_count": null,
   "metadata": {},
   "outputs": [],
   "source": [
    "# all grant and revoke permissions\n",
    "df(\"\"\"\n",
    "WITH util_cmds AS (\n",
    "SELECT userid, \n",
    "LISTAGG(CASE WHEN LEN(RTRIM(text)) = 0\n",
    "THEN text\n",
    "ELSE RTRIM(text)\n",
    "END) \n",
    "WITHIN GROUP (ORDER BY sequence) AS query_statement \n",
    "FROM stl_utilitytext GROUP BY userid, xid order by xid)\n",
    "SELECT util_cmds.userid, stl_userlog.username, query_statement\n",
    "FROM util_cmds\n",
    "LEFT JOIN stl_userlog ON (util_cmds.userid = stl_userlog.userid)\n",
    "WHERE query_statement\n",
    "ILIKE '%GRANT%' OR query_statement ILIKE '%REVOKE%';\n",
    "\"\"\")"
   ]
  },
  {
   "cell_type": "code",
   "execution_count": null,
   "metadata": {},
   "outputs": [],
   "source": [
    "# Last 10 failed logins\n",
    "df(\"\"\"\n",
    "SELECT *\n",
    "FROM stl_connection_log\n",
    "WHERE event='authentication failure'\n",
    "ORDER BY recordtime DESC \n",
    "LIMIT 10;\n",
    "\"\"\")"
   ]
  },
  {
   "cell_type": "markdown",
   "metadata": {},
   "source": [
    "# Redshift Data Inventory"
   ]
  },
  {
   "cell_type": "code",
   "execution_count": null,
   "metadata": {},
   "outputs": [],
   "source": [
    "# Manual process\n",
    "df(\"\"\"\n",
    "SELECT column_name, table_name, table_schema, table_catalog\n",
    "FROM information_schema.columns\n",
    "WHERE table_schema NOT IN ('information_schema', 'pg_catalog')\n",
    "ORDER BY table_catalog, table_schema, table_name, ordinal_position ;\n",
    "\"\"\")"
   ]
  },
  {
   "cell_type": "markdown",
   "metadata": {},
   "source": [
    "# Data Masking"
   ]
  },
  {
   "cell_type": "code",
   "execution_count": null,
   "metadata": {},
   "outputs": [],
   "source": [
    "# Static masking using Views\n",
    "df(\"\"\"\n",
    "CREATE OR REPLACE VIEW redacted_customers AS\n",
    "SELECT sha2(first_name, 256) AS first_name, \n",
    "sha2(last_name, 256) AS last_name, \n",
    "country_code,\n",
    "REGEXP_REPLACE(email, '[^@]+@', '*@') AS email\n",
    "FROM customers;\n",
    "\"\"\")"
   ]
  },
  {
   "cell_type": "code",
   "execution_count": null,
   "metadata": {},
   "outputs": [],
   "source": [
    "# dynamic masking\n",
    "df(\"\"\"\n",
    "CREATE VIEW v_customers AS\n",
    "SELECT CASE WHEN CURRENT_USER='admin' THEN first_name ELSE sha2(first_name, 256) END AS first_name,\n",
    "CASE WHEN CURRENT_USER='admin' THEN last_name ELSE sha2(last_name, 256) END AS last_name,\n",
    "country_code,\n",
    "CASE WHEN CURRENT_USER='admin' THEN email ELSE REGEXP_REPLACE(email, '[^@]+@', '*@') END AS email\n",
    "FROM public.customers;\n",
    "\"\"\")"
   ]
  },
  {
   "cell_type": "code",
   "execution_count": null,
   "metadata": {},
   "outputs": [],
   "source": [
    "df(\"\"\"\n",
    "\n",
    "\"\"\")"
   ]
  },
  {
   "cell_type": "code",
   "execution_count": null,
   "metadata": {},
   "outputs": [],
   "source": [
    "df(\"\"\"\n",
    "\n",
    "\"\"\")"
   ]
  },
  {
   "cell_type": "code",
   "execution_count": null,
   "metadata": {},
   "outputs": [],
   "source": [
    "df(\"\"\"\n",
    "\n",
    "\"\"\")"
   ]
  },
  {
   "cell_type": "code",
   "execution_count": null,
   "metadata": {},
   "outputs": [],
   "source": [
    "df(\"\"\"\n",
    "\n",
    "\"\"\")"
   ]
  },
  {
   "cell_type": "code",
   "execution_count": null,
   "metadata": {},
   "outputs": [],
   "source": [
    "df(\"\"\"\n",
    "\n",
    "\"\"\")"
   ]
  },
  {
   "cell_type": "code",
   "execution_count": null,
   "metadata": {},
   "outputs": [],
   "source": [
    "df(\"\"\"\n",
    "\n",
    "\"\"\")"
   ]
  },
  {
   "cell_type": "code",
   "execution_count": null,
   "metadata": {},
   "outputs": [],
   "source": [
    "df(\"\"\"\n",
    "\n",
    "\"\"\")"
   ]
  },
  {
   "cell_type": "code",
   "execution_count": null,
   "metadata": {},
   "outputs": [],
   "source": []
  },
  {
   "cell_type": "code",
   "execution_count": null,
   "metadata": {},
   "outputs": [],
   "source": []
  },
  {
   "cell_type": "code",
   "execution_count": null,
   "metadata": {},
   "outputs": [],
   "source": []
  },
  {
   "cell_type": "code",
   "execution_count": null,
   "metadata": {},
   "outputs": [],
   "source": []
  },
  {
   "cell_type": "code",
   "execution_count": null,
   "metadata": {},
   "outputs": [],
   "source": []
  },
  {
   "cell_type": "code",
   "execution_count": null,
   "metadata": {},
   "outputs": [],
   "source": []
  },
  {
   "cell_type": "code",
   "execution_count": null,
   "metadata": {},
   "outputs": [],
   "source": []
  },
  {
   "cell_type": "code",
   "execution_count": null,
   "metadata": {},
   "outputs": [],
   "source": []
  },
  {
   "cell_type": "code",
   "execution_count": null,
   "metadata": {},
   "outputs": [],
   "source": []
  },
  {
   "cell_type": "code",
   "execution_count": null,
   "metadata": {},
   "outputs": [],
   "source": []
  },
  {
   "cell_type": "code",
   "execution_count": null,
   "metadata": {},
   "outputs": [],
   "source": []
  },
  {
   "cell_type": "code",
   "execution_count": null,
   "metadata": {},
   "outputs": [],
   "source": []
  },
  {
   "cell_type": "code",
   "execution_count": null,
   "metadata": {},
   "outputs": [],
   "source": []
  },
  {
   "cell_type": "code",
   "execution_count": null,
   "metadata": {},
   "outputs": [],
   "source": []
  }
 ],
 "metadata": {
  "interpreter": {
   "hash": "6985f10b91082f8e90fb90f5e291b1f6a2370ee2bb80fa772a7655e7d786a886"
  },
  "kernelspec": {
   "display_name": "Python 3.8.12 64-bit ('.venv': venv)",
   "language": "python",
   "name": "python3"
  },
  "language_info": {
   "codemirror_mode": {
    "name": "ipython",
    "version": 3
   },
   "file_extension": ".py",
   "mimetype": "text/x-python",
   "name": "python",
   "nbconvert_exporter": "python",
   "pygments_lexer": "ipython3",
   "version": "3.8.12"
  },
  "orig_nbformat": 4
 },
 "nbformat": 4,
 "nbformat_minor": 2
}

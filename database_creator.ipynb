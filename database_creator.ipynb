{
 "cells": [
  {
   "cell_type": "markdown",
   "metadata": {},
   "source": [
    "# Database Creator"
   ]
  },
  {
   "cell_type": "markdown",
   "metadata": {},
   "source": [
    "Need to make/finish the functions to make the domain and subdomain lists"
   ]
  },
  {
   "cell_type": "code",
   "execution_count": 1,
   "metadata": {},
   "outputs": [],
   "source": [
    "from security_domains import SECURITY_DOMAINS"
   ]
  },
  {
   "cell_type": "code",
   "execution_count": 2,
   "metadata": {},
   "outputs": [],
   "source": [
    "envs = {\n",
    "    'dev': {\n",
    "        'env_prefix': 'tbdd',\n",
    "        'service_account_suffix': 'd',\n",
    "        'sensitive_suffix': 'sensitive',\n",
    "        'env_suffix': 'dev',\n",
    "    },\n",
    "    'qa': {\n",
    "        'env_prefix': 'tbdq',\n",
    "        'service_account_suffix': 'q',\n",
    "        'sensitive_suffix': 'sensitive',\n",
    "        'env_suffix': 'qa',\n",
    "    },\n",
    "    'prod': {\n",
    "        'env_prefix': 'tbdp',\n",
    "        'service_account_suffix': 'p',\n",
    "        'sensitive_suffix': 'sensitive',\n",
    "        'env_suffix': 'prod',\n",
    "    },\n",
    "}\n"
   ]
  },
  {
   "cell_type": "code",
   "execution_count": 178,
   "metadata": {},
   "outputs": [],
   "source": [
    "def make_security_groups_from_domain_subdomain(domain, subdomain):\n",
    "    pass\n",
    "\n",
    "\n",
    "def add_domain(env=None, info=None, template=False):\n",
    "    \"\"\"Use template=True to output an example dictionary\"\"\"\n",
    "    pass\n",
    "\n",
    "\n",
    "def add_subdomain(env=None, domain=None, subdomains=None, template=False):\n",
    "    \"\"\"Use template=True to output an example dictionary\"\"\"\n",
    "    sensitive = info.get('sensitive')\n",
    "    for subdomain in subdomains:\n",
    "        for sg in subdomain.get('security_groups'):\n",
    "            add_security_group(\n",
    "                env=env, domain=domain, subdomain=subdomain, sensitive=sensitive\n",
    "            )\n",
    "    pass"
   ]
  },
  {
   "cell_type": "code",
   "execution_count": null,
   "metadata": {},
   "outputs": [],
   "source": [
    "# ADD_SECURITY_GROUP IS WORKING\n",
    "def add_security_group(env, domain, subdomain=None, sensitive=None):\n",
    "    env_prefix = env.get('env_prefix')\n",
    "    sensitive_suffix = env.get('sensitive_suffix')\n",
    "    group_parts = [env_prefix, domain]\n",
    "    if subdomain is not None:\n",
    "        group_parts.append(subdomain)\n",
    "    if sensitive is not None:\n",
    "        if sensitive == 'replace':\n",
    "            # add senstivie_suffix to end\n",
    "            group_parts.append(sensitive_suffix)\n",
    "        elif sensitive == 'add_extra':\n",
    "            # add extra security group with sensitive_suffix\n",
    "            group_parts_sen = group_parts.copy()\n",
    "            group_parts_sen.append(sensitive_suffix)\n",
    "            security_group_sen = '-'.join(group_parts_sen)\n",
    "            add_group_sen_sql = f'''add group \"{security_group_sen}\";'''\n",
    "        else:\n",
    "            raise ValueError(\n",
    "                f'sensitive must be either `add_extra` or `replace`, got `{sensitive}`'\n",
    "            )\n",
    "    security_group = '-'.join(group_parts)\n",
    "    add_group_sql = f'''add group \"{security_group}\";'''\n",
    "    if sensitive == 'add_extra':\n",
    "        return [add_group_sql, add_group_sen_sql]\n",
    "    else:\n",
    "        return [add_group_sql]\n"
   ]
  },
  {
   "cell_type": "code",
   "execution_count": 185,
   "metadata": {},
   "outputs": [
    {
     "data": {
      "text/plain": [
       "['add group \"tbdd-customer-master\";',\n",
       " 'add group \"tbdd-customer-master-sensitive\";']"
      ]
     },
     "execution_count": 185,
     "metadata": {},
     "output_type": "execute_result"
    }
   ],
   "source": [
    "add_security_group(\n",
    "    env=envs.get('dev'), domain='customer', subdomain='master', sensitive='add_extra'\n",
    ")\n"
   ]
  },
  {
   "cell_type": "code",
   "execution_count": null,
   "metadata": {},
   "outputs": [],
   "source": []
  },
  {
   "cell_type": "code",
   "execution_count": 40,
   "metadata": {},
   "outputs": [],
   "source": [
    "# PRINT_DATABASE_DOMAINS IS WORKING\n",
    "def print_database_domains(database, indent_chars=10):\n",
    "    \"\"\"prints the database domains, subdomains, and security groups\"\"\"\n",
    "\n",
    "    def print_indent(item, level, type):\n",
    "        indent_string = ' ' * level * indent_chars\n",
    "        sep = '-'\n",
    "        if type == 'security_domain':\n",
    "            print_string = item.upper() + ' -- Security Domain'\n",
    "            print(print_string)\n",
    "            print(sep * len(print_string))\n",
    "        elif type == 'domain':\n",
    "            print_string = indent_string + item.upper() + ' -- Data Domain'\n",
    "            print(print_string)\n",
    "            print(\n",
    "                ' ' * len(indent_string) + sep * (len(print_string) - len(indent_string))\n",
    "            )\n",
    "        elif type == 'subdomain':\n",
    "            print_string = indent_string + item.upper() + ' -- Subdomain'\n",
    "            print(print_string)\n",
    "            print(\n",
    "                ' ' * len(indent_string) + sep * (len(print_string) - len(indent_string))\n",
    "            )\n",
    "        elif type == 'security_group':\n",
    "            print(indent_string + item)\n",
    "\n",
    "    def display_and_interpret_domain(domains, level, type):\n",
    "        for name, domain in domains.items():\n",
    "            print()\n",
    "            print_indent(name, level, type=type)\n",
    "            interpret(domain, level)\n",
    "\n",
    "    def interpret(thing, level=-1):\n",
    "        security_domains = thing.get('security_domains')\n",
    "        domains = thing.get('domains')\n",
    "        subdomains = thing.get('subdomains')\n",
    "        security_groups = thing.get('security_groups')\n",
    "        if security_groups is not None:\n",
    "            for security_group in security_groups:\n",
    "                print_indent(f\"'{security_group}'\", level, type='security_group')\n",
    "        if subdomains is not None:\n",
    "            level += 1\n",
    "            display_and_interpret_domain(\n",
    "                domains=subdomains, level=level, type='subdomain'\n",
    "            )\n",
    "        if domains is not None:\n",
    "            level += 1\n",
    "            display_and_interpret_domain(\n",
    "                domains=domains, level=level, type='domain'\n",
    "            )\n",
    "        if security_domains is not None:\n",
    "            level += 1\n",
    "            display_and_interpret_domain(\n",
    "                domains=security_domains, level=level, type='security_domain'\n",
    "            )\n",
    "\n",
    "    return interpret(database)\n"
   ]
  },
  {
   "cell_type": "code",
   "execution_count": null,
   "metadata": {},
   "outputs": [],
   "source": [
    "print_database_domains(SECURITY_DOMAINS, indent_chars=8)"
   ]
  },
  {
   "cell_type": "code",
   "execution_count": 13,
   "metadata": {},
   "outputs": [],
   "source": [
    "# GET_DOMAIN_SECURITY_GROUPS IS WORKING\n",
    "def get_domain_security_groups(database):\n",
    "    \"\"\"Get a list of data domain security groups\"\"\"\n",
    "    security_group_list = []\n",
    "    def reinterpret(domains):\n",
    "        for name, domain in domains.items():\n",
    "            interpret(domain)\n",
    "\n",
    "    def interpret(thing):\n",
    "        security_domains = thing.get('security_domains')\n",
    "        domains = thing.get('domains')\n",
    "        subdomains = thing.get('subdomains')\n",
    "        security_groups = thing.get('security_groups')\n",
    "        if security_groups is not None:\n",
    "            for security_group in security_groups:\n",
    "                if security_group != '':\n",
    "                    security_group_list.append(security_group)\n",
    "        if subdomains is not None:\n",
    "            reinterpret(subdomains)\n",
    "        if domains is not None:\n",
    "            reinterpret(domains)\n",
    "        if security_domains is not None:\n",
    "            reinterpret(security_domains)\n",
    "    \n",
    "    interpret(database)\n",
    "    return security_group_list\n"
   ]
  },
  {
   "cell_type": "code",
   "execution_count": 14,
   "metadata": {},
   "outputs": [
    {
     "data": {
      "text/plain": [
       "['customer-master',\n",
       " 'customer-vehicle-purchase-writeup',\n",
       " 'call-center-toy',\n",
       " 'call-center-toy-sen',\n",
       " 'customer-demographics',\n",
       " 'customer-communication-management-sen',\n",
       " 'customer-dealer-relationship',\n",
       " 'customer-parts-ecommerce',\n",
       " 'customer-predictive-score',\n",
       " 'customer-predictive-score-toyota',\n",
       " 'customer-predictive-score-lexus',\n",
       " 'customer-alias',\n",
       " 'customer-marketing',\n",
       " 'party-vendor-partner',\n",
       " 'non-customer-sensitive',\n",
       " 'dealer-master',\n",
       " 'party-dealer-management',\n",
       " 'party-dealer-management-sensitive',\n",
       " 'dealer-personnel',\n",
       " 'dealer-call-center',\n",
       " 'party-region-master-sensitive',\n",
       " 'dealership-staff',\n",
       " 'vehicle-master-data',\n",
       " 'vehicle-master-data-sensitive',\n",
       " 'vehicle-master-data-lexus-sensitive',\n",
       " 'vehicle-master-data-toyota-sensitive',\n",
       " 'vehicle-sales',\n",
       " 'sales-actuals-sen',\n",
       " 'sales-forecast',\n",
       " 'sales-forecast-factor',\n",
       " 'sales-forecast-sen',\n",
       " 'vin-dist-sales-sen',\n",
       " 'sales-incentives-forecast-sen',\n",
       " 'vehicle-sales-new-car-aggregated-actuals',\n",
       " 'vehicle-sales-new-car-vin-based-actuals',\n",
       " 'vehicle-pricing',\n",
       " 'vehicle-pricing-sensitive',\n",
       " 'vehicle-configuration',\n",
       " 'vehicle-configuration-sen',\n",
       " 'vehicle-inventory-volume',\n",
       " 'vehicle-inventory-volume-sen',\n",
       " 'vehicle-factors-sensitive',\n",
       " 'vehicle-planning-sensitive',\n",
       " 'vehicle-orders-actuals',\n",
       " 'vehicle-orders-actuals',\n",
       " 'vehicle-logistics-management',\n",
       " 'vehicle-logistics-mgmt-sensitive',\n",
       " 'telematics',\n",
       " 'parts-directparts',\n",
       " 'parts-directparts-manufacturing',\n",
       " 'parts-directparts-manufacturing-supplier-survey',\n",
       " 'parts-indirectparts-serviceparts',\n",
       " 'sales-serviceparts',\n",
       " 'parts-transactions',\n",
       " 'parts-pdc-warehouse-management',\n",
       " 'parts-pdc-supply',\n",
       " 'parts-logistics-management',\n",
       " 'quality-campaigns',\n",
       " 'quality-reports',\n",
       " 'quality-diagnostics',\n",
       " 'manufacturing-defects',\n",
       " 'manufacturing-productivity',\n",
       " 'manufacturing-job-process',\n",
       " 'manufacturing-affiliates',\n",
       " 'manufacturing-equipment',\n",
       " 'manufacturing-inspection',\n",
       " 'warranty',\n",
       " 'warranty-sensitive',\n",
       " 'warranty-partsclaims',\n",
       " 'warranty-insurance',\n",
       " 'accounting-master',\n",
       " 'accounting-calendar',\n",
       " 'accounting-calendar-sensitive',\n",
       " 'accounting-transactions',\n",
       " 'accounting-transactions-sensitive',\n",
       " 'accounting-transactions-expense-sensitive',\n",
       " 'finance-master',\n",
       " 'survey-lexus-anylt-us',\n",
       " 'survey-toyota-anylt-us',\n",
       " 'survey-lexus-anylt-puertorico',\n",
       " 'survey-toyota-anylt-puertorico',\n",
       " 'survey-quality',\n",
       " 'irm-profit-sen',\n",
       " 'irm-pl-fio-sen',\n",
       " 'irm-pl-ppo-sen',\n",
       " 'irm-pl-veh-entr-sen',\n",
       " 'irm-pl-veh-sal-sen',\n",
       " 'irm-pricing-tema-cal',\n",
       " 'irm-pricing-tmc-cal',\n",
       " 'irm-pricing-tms-cal',\n",
       " 'irm-pricing-tema-hon',\n",
       " 'irm-pricing-4levels',\n",
       " 'legal-busers',\n",
       " 'reference',\n",
       " 'reference-sensitive',\n",
       " 'reference-calendar']"
      ]
     },
     "execution_count": 14,
     "metadata": {},
     "output_type": "execute_result"
    }
   ],
   "source": [
    "get_domain_security_groups(SECURITY_DOMAINS)"
   ]
  },
  {
   "cell_type": "code",
   "execution_count": null,
   "metadata": {},
   "outputs": [],
   "source": []
  },
  {
   "cell_type": "code",
   "execution_count": null,
   "metadata": {},
   "outputs": [],
   "source": []
  },
  {
   "cell_type": "code",
   "execution_count": null,
   "metadata": {},
   "outputs": [],
   "source": []
  },
  {
   "cell_type": "code",
   "execution_count": null,
   "metadata": {},
   "outputs": [],
   "source": []
  },
  {
   "cell_type": "code",
   "execution_count": null,
   "metadata": {},
   "outputs": [],
   "source": []
  },
  {
   "cell_type": "code",
   "execution_count": null,
   "metadata": {},
   "outputs": [],
   "source": []
  },
  {
   "cell_type": "code",
   "execution_count": null,
   "metadata": {},
   "outputs": [],
   "source": []
  },
  {
   "cell_type": "code",
   "execution_count": null,
   "metadata": {},
   "outputs": [],
   "source": []
  },
  {
   "cell_type": "code",
   "execution_count": null,
   "metadata": {},
   "outputs": [],
   "source": []
  },
  {
   "cell_type": "code",
   "execution_count": null,
   "metadata": {},
   "outputs": [],
   "source": []
  },
  {
   "cell_type": "code",
   "execution_count": null,
   "metadata": {},
   "outputs": [],
   "source": []
  },
  {
   "cell_type": "code",
   "execution_count": null,
   "metadata": {},
   "outputs": [],
   "source": []
  }
 ],
 "metadata": {
  "interpreter": {
   "hash": "6985f10b91082f8e90fb90f5e291b1f6a2370ee2bb80fa772a7655e7d786a886"
  },
  "kernelspec": {
   "display_name": "Python 3.8.12 64-bit ('.venv': venv)",
   "language": "python",
   "name": "python3"
  },
  "language_info": {
   "codemirror_mode": {
    "name": "ipython",
    "version": 3
   },
   "file_extension": ".py",
   "mimetype": "text/x-python",
   "name": "python",
   "nbconvert_exporter": "python",
   "pygments_lexer": "ipython3",
   "version": "3.8.12"
  },
  "orig_nbformat": 4
 },
 "nbformat": 4,
 "nbformat_minor": 2
}

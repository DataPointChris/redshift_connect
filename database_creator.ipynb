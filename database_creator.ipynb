{
 "cells": [
  {
   "cell_type": "markdown",
   "metadata": {},
   "source": [
    "# Database Creator"
   ]
  },
  {
   "cell_type": "markdown",
   "metadata": {},
   "source": [
    "Need to make/finish the functions to make the domain and subdomain lists"
   ]
  },
  {
   "cell_type": "code",
   "execution_count": 1,
   "metadata": {},
   "outputs": [],
   "source": [
    "from security_domains import SECURITY_DOMAINS\n",
    "from environments import ENVIRONMENTS"
   ]
  },
  {
   "cell_type": "code",
   "execution_count": 2,
   "metadata": {},
   "outputs": [],
   "source": [
    "dev = ENVIRONMENTS.get('dev')\n",
    "test = ENVIRONMENTS.get('test')\n",
    "prod = ENVIRONMENTS.get('prod')"
   ]
  },
  {
   "cell_type": "code",
   "execution_count": 3,
   "metadata": {},
   "outputs": [],
   "source": [
    "# WIP\n",
    "def make_security_groups_from_domain_subdomain(domain, subdomain):\n",
    "    pass\n",
    "\n",
    "\n",
    "def add_domain(env=None, info=None, template=False):\n",
    "    \"\"\"Use template=True to output an example dictionary\"\"\"\n",
    "    pass\n",
    "\n",
    "\n",
    "def add_subdomain(env=None, domain=None, subdomains=None, template=False):\n",
    "    \"\"\"Use template=True to output an example dictionary\"\"\"\n",
    "    sensitive = info.get('sensitive')\n",
    "    for subdomain in subdomains:\n",
    "        for sg in subdomain.get('security_groups'):\n",
    "            add_security_group(\n",
    "                env=env, domain=domain, subdomain=subdomain, sensitive=sensitive\n",
    "            )\n",
    "    pass"
   ]
  },
  {
   "cell_type": "code",
   "execution_count": 4,
   "metadata": {},
   "outputs": [],
   "source": [
    "# ADD_SECURITY_GROUP IS WORKING\n",
    "def add_security_group(env, domain, subdomain=None, sensitive=None):\n",
    "    env_prefix = env.get('env_prefix')\n",
    "    sensitive_suffix = env.get('sensitive_suffix')\n",
    "    group_parts = [env_prefix, domain]\n",
    "    if subdomain is not None:\n",
    "        group_parts.append(subdomain)\n",
    "    if sensitive is not None:\n",
    "        if sensitive == 'replace':\n",
    "            # add senstivie_suffix to end\n",
    "            group_parts.append(sensitive_suffix)\n",
    "        elif sensitive == 'add_extra':\n",
    "            # add extra security group with sensitive_suffix\n",
    "            group_parts_sen = group_parts.copy()\n",
    "            group_parts_sen.append(sensitive_suffix)\n",
    "            security_group_sen = '-'.join(group_parts_sen)\n",
    "            add_group_sen_sql = f'''add group \"{security_group_sen}\";'''\n",
    "        else:\n",
    "            raise ValueError(\n",
    "                f'sensitive must be either `add_extra` or `replace`, got `{sensitive}`'\n",
    "            )\n",
    "    security_group = '-'.join(group_parts)\n",
    "    add_group_sql = f'''add group \"{security_group}\";'''\n",
    "    if sensitive == 'add_extra':\n",
    "        return [add_group_sql, add_group_sen_sql]\n",
    "    else:\n",
    "        return [add_group_sql]\n"
   ]
  },
  {
   "cell_type": "code",
   "execution_count": 5,
   "metadata": {},
   "outputs": [
    {
     "data": {
      "text/plain": [
       "['add group \"dev-widget-master\";', 'add group \"dev-widget-master-sensitive\";']"
      ]
     },
     "execution_count": 5,
     "metadata": {},
     "output_type": "execute_result"
    }
   ],
   "source": [
    "add_security_group(\n",
    "    env=dev, domain='widget', subdomain='master', sensitive='add_extra'\n",
    ")\n"
   ]
  },
  {
   "cell_type": "code",
   "execution_count": 6,
   "metadata": {},
   "outputs": [
    {
     "data": {
      "text/plain": [
       "['add group \"prod-api-master-sensitive\";']"
      ]
     },
     "execution_count": 6,
     "metadata": {},
     "output_type": "execute_result"
    }
   ],
   "source": [
    "add_security_group(\n",
    "    env=ENVIRONMENTS.get('prod'), domain='api', subdomain='master', sensitive='replace'\n",
    ")"
   ]
  },
  {
   "cell_type": "code",
   "execution_count": 7,
   "metadata": {},
   "outputs": [],
   "source": [
    "# PRINT_DATABASE_DOMAINS IS WORKING\n",
    "def print_database_domains(database, indent_chars=10):\n",
    "    \"\"\"prints the database domains, subdomains, and security groups\"\"\"\n",
    "\n",
    "    def print_indent(item, level, type):\n",
    "        indent_string = ' ' * level * indent_chars\n",
    "        sep = '-'\n",
    "        if type == 'security_domain':\n",
    "            print_string = item.upper() + ' -- Security Domain'\n",
    "            print(print_string)\n",
    "            print(sep * len(print_string))\n",
    "        elif type == 'domain':\n",
    "            print_string = indent_string + item.upper() + ' -- Data Domain'\n",
    "            print(print_string)\n",
    "            print(\n",
    "                ' ' * len(indent_string) + sep * (len(print_string) - len(indent_string))\n",
    "            )\n",
    "        elif type == 'subdomain':\n",
    "            print_string = indent_string + item.upper() + ' -- Subdomain'\n",
    "            print(print_string)\n",
    "            print(\n",
    "                ' ' * len(indent_string) + sep * (len(print_string) - len(indent_string))\n",
    "            )\n",
    "        elif type == 'security_group':\n",
    "            print(indent_string + item)\n",
    "\n",
    "    def display_and_interpret_domain(domains, level, type):\n",
    "        for name, domain in domains.items():\n",
    "            print()\n",
    "            print_indent(name, level, type=type)\n",
    "            interpret(domain, level)\n",
    "\n",
    "    def interpret(thing, level=-1):\n",
    "        security_domains = thing.get('security_domains')\n",
    "        domains = thing.get('domains')\n",
    "        subdomains = thing.get('subdomains')\n",
    "        security_groups = thing.get('security_groups')\n",
    "        if security_groups is not None:\n",
    "            for security_group in security_groups:\n",
    "                print_indent(f\"'{security_group}'\", level, type='security_group')\n",
    "        if subdomains is not None:\n",
    "            level += 1\n",
    "            display_and_interpret_domain(\n",
    "                domains=subdomains, level=level, type='subdomain'\n",
    "            )\n",
    "        if domains is not None:\n",
    "            level += 1\n",
    "            display_and_interpret_domain(\n",
    "                domains=domains, level=level, type='domain'\n",
    "            )\n",
    "        if security_domains is not None:\n",
    "            level += 1\n",
    "            display_and_interpret_domain(\n",
    "                domains=security_domains, level=level, type='security_domain'\n",
    "            )\n",
    "\n",
    "    return interpret(database)\n"
   ]
  },
  {
   "cell_type": "code",
   "execution_count": 8,
   "metadata": {},
   "outputs": [
    {
     "name": "stdout",
     "output_type": "stream",
     "text": [
      "\n",
      "PRODUCT -- Security Domain\n",
      "--------------------------\n",
      "\n",
      "        WIDGET -- Data Domain\n",
      "        ---------------------\n",
      "\n",
      "                MASTER -- Subdomain\n",
      "                -------------------\n",
      "                'widget-master-data'\n",
      "                'widget-master-data-sensitive'\n",
      "\n",
      "                SALES -- Subdomain\n",
      "                ------------------\n",
      "                'widget-sales-actuals'\n",
      "                'widget-sales-forecast'\n",
      "\n",
      "                        NEW_WIDGET_SALES -- Subdomain\n",
      "                        -----------------------------\n",
      "\n",
      "                                AGGREGATED -- Subdomain\n",
      "                                -----------------------\n",
      "\n",
      "                                        ACTUALS -- Subdomain\n",
      "                                        --------------------\n",
      "                                        'widget-sales-new-aggregated-actuals'\n",
      "\n",
      "                                USED_WIDGET_SALES -- Subdomain\n",
      "                                ------------------------------\n",
      "\n",
      "                                        VIN_BASED -- Subdomain\n",
      "                                        ----------------------\n",
      "\n",
      "                        PRICING -- Subdomain\n",
      "                        --------------------\n",
      "                        'widget-pricing'\n",
      "                        'widget-pricing-sensitive'\n",
      "\n",
      "                        CONFIGURATION -- Subdomain\n",
      "                        --------------------------\n",
      "                        'widget-configuration'\n",
      "                        'widget-configuration-sensitive'\n",
      "\n",
      "                        INVENTORY_VOLUME -- Subdomain\n",
      "                        -----------------------------\n",
      "                        'widget-inventory-volume'\n",
      "                        'widget-inventory-volume-sensitive'\n",
      "\n",
      "                        ORDERS -- Subdomain\n",
      "                        -------------------\n",
      "\n",
      "                                FORECAST -- Subdomain\n",
      "                                ---------------------\n",
      "                                'widget-orders-actuals'\n",
      "\n",
      "                                ACTUALS -- Subdomain\n",
      "                                --------------------\n",
      "                                'widget-orders-actuals'\n",
      "\n",
      "                        QUALITY -- Subdomain\n",
      "                        --------------------\n",
      "\n",
      "                                REPORTS -- Subdomain\n",
      "                                --------------------\n",
      "                                'quality-reports'\n",
      "\n",
      "                PRODUCTION -- Subdomain\n",
      "                -----------------------\n",
      "\n",
      "                        MANUFACTURING -- Data Domain\n",
      "                        ----------------------------\n",
      "\n",
      "                                DEFECTS -- Subdomain\n",
      "                                --------------------\n",
      "                                'manufacturing-defects'\n",
      "\n",
      "                                PRODUCTIVITY -- Subdomain\n",
      "                                -------------------------\n",
      "                                'manufacturing-productivity'\n",
      "\n",
      "                                JOB_PROCESS -- Subdomain\n",
      "                                ------------------------\n",
      "                                'manufacturing-job-process'\n",
      "\n",
      "                                EQUIPMENT -- Subdomain\n",
      "                                ----------------------\n",
      "                                'manufacturing-equipment'\n",
      "\n",
      "                                INSPECTION -- Subdomain\n",
      "                                -----------------------\n",
      "                                'manufacturing-inspection'\n",
      "\n",
      "        API -- Data Domain\n",
      "        ------------------\n",
      "\n",
      "                MASTER -- Subdomain\n",
      "                -------------------\n",
      "                'api-master-data'\n",
      "                'api-master-data-sensitive'\n",
      "\n",
      "        ACCOUNTING -- Data Domain\n",
      "        -------------------------\n",
      "\n",
      "                MASTER -- Subdomain\n",
      "                -------------------\n",
      "                'accounting-master-data'\n",
      "                'accounting-master-data-sensitive'\n"
     ]
    }
   ],
   "source": [
    "print_database_domains(SECURITY_DOMAINS, indent_chars=8)"
   ]
  },
  {
   "cell_type": "code",
   "execution_count": 9,
   "metadata": {},
   "outputs": [],
   "source": [
    "# GET_DOMAIN_SECURITY_GROUPS IS WORKING\n",
    "def get_domain_security_groups(database):\n",
    "    \"\"\"Get a list of data domain security groups\"\"\"\n",
    "    security_group_list = []\n",
    "    def reinterpret(domains):\n",
    "        for name, domain in domains.items():\n",
    "            interpret(domain)\n",
    "\n",
    "    def interpret(thing):\n",
    "        security_domains = thing.get('security_domains')\n",
    "        domains = thing.get('domains')\n",
    "        subdomains = thing.get('subdomains')\n",
    "        security_groups = thing.get('security_groups')\n",
    "        if security_groups is not None:\n",
    "            for security_group in security_groups:\n",
    "                if security_group != '':\n",
    "                    security_group_list.append(security_group)\n",
    "        if subdomains is not None:\n",
    "            reinterpret(subdomains)\n",
    "        if domains is not None:\n",
    "            reinterpret(domains)\n",
    "        if security_domains is not None:\n",
    "            reinterpret(security_domains)\n",
    "    \n",
    "    interpret(database)\n",
    "    return security_group_list\n"
   ]
  },
  {
   "cell_type": "code",
   "execution_count": 10,
   "metadata": {},
   "outputs": [
    {
     "name": "stdout",
     "output_type": "stream",
     "text": [
      "widget-master-data\n",
      "widget-master-data-sensitive\n",
      "widget-sales-actuals\n",
      "widget-sales-forecast\n",
      "widget-sales-new-aggregated-actuals\n",
      "widget-pricing\n",
      "widget-pricing-sensitive\n",
      "widget-configuration\n",
      "widget-configuration-sensitive\n",
      "widget-inventory-volume\n",
      "widget-inventory-volume-sensitive\n",
      "widget-orders-actuals\n",
      "widget-orders-actuals\n",
      "quality-reports\n",
      "manufacturing-defects\n",
      "manufacturing-productivity\n",
      "manufacturing-job-process\n",
      "manufacturing-equipment\n",
      "manufacturing-inspection\n"
     ]
    }
   ],
   "source": [
    "widgets_domain = SECURITY_DOMAINS['security_domains']['product']['domains']['widget']\n",
    "for sg in get_domain_security_groups(widgets_domain):\n",
    "    print(sg)"
   ]
  },
  {
   "cell_type": "code",
   "execution_count": null,
   "metadata": {},
   "outputs": [],
   "source": []
  }
 ],
 "metadata": {
  "interpreter": {
   "hash": "6985f10b91082f8e90fb90f5e291b1f6a2370ee2bb80fa772a7655e7d786a886"
  },
  "kernelspec": {
   "display_name": "Python 3.8.12 64-bit ('.venv': venv)",
   "language": "python",
   "name": "python3"
  },
  "language_info": {
   "codemirror_mode": {
    "name": "ipython",
    "version": 3
   },
   "file_extension": ".py",
   "mimetype": "text/x-python",
   "name": "python",
   "nbconvert_exporter": "python",
   "pygments_lexer": "ipython3",
   "version": "3.10.2"
  },
  "orig_nbformat": 4
 },
 "nbformat": 4,
 "nbformat_minor": 2
}

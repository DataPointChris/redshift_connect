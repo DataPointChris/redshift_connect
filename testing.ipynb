{
 "cells": [
  {
   "cell_type": "code",
   "execution_count": 1,
   "metadata": {},
   "outputs": [],
   "source": [
    "import pandas as pd\n",
    "import pathlib\n",
    "from redshift_connection import RedshiftConnection"
   ]
  },
  {
   "cell_type": "code",
   "execution_count": 2,
   "metadata": {},
   "outputs": [],
   "source": [
    "filename = 'last_10_queries.sql'\n",
    "sql_file_path = pathlib.Path(f'sql/{filename}')\n",
    "basename = sql_file_path.stem"
   ]
  },
  {
   "cell_type": "code",
   "execution_count": 3,
   "metadata": {},
   "outputs": [],
   "source": [
    "\n",
    "connection = RedshiftConnection().connect()\n",
    "cursor = connection.cursor()\n"
   ]
  },
  {
   "cell_type": "code",
   "execution_count": 25,
   "metadata": {},
   "outputs": [
    {
     "data": {
      "text/plain": [
       "True"
      ]
     },
     "execution_count": 25,
     "metadata": {},
     "output_type": "execute_result"
    }
   ],
   "source": [
    "\n",
    "sql_okay = \"\"\"SELECT query, \n",
    "LISTAGG(CASE WHEN LEN(RTRIM(text)) = 0 THEN text \n",
    "    ELSE RTRIM(text) END) WITHIN GROUP (ORDER BY sequence) AS query_statement, \n",
    "COUNT(*) as row_count \n",
    "FROM stl_querytext\n",
    "GROUP BY query\n",
    "ORDER BY query desc\n",
    "LIMIT 10;\"\"\"\n",
    "\n",
    "\n",
    "\n",
    "with open(sql_file_path, 'r') as query:\n",
    "    read = query.read()\n",
    "    # df = cursor.execute(sql).fetch_dataframe()\n",
    "#     df = pd.read_sql(query.read(), con=cnxn)\n",
    "# df = pd.read_sql(sql, cnxn)\n",
    "#     print(df)\n",
    "\n",
    "sql_okay == read"
   ]
  },
  {
   "cell_type": "code",
   "execution_count": 27,
   "metadata": {},
   "outputs": [
    {
     "data": {
      "text/html": [
       "<div>\n",
       "<style scoped>\n",
       "    .dataframe tbody tr th:only-of-type {\n",
       "        vertical-align: middle;\n",
       "    }\n",
       "\n",
       "    .dataframe tbody tr th {\n",
       "        vertical-align: top;\n",
       "    }\n",
       "\n",
       "    .dataframe thead th {\n",
       "        text-align: right;\n",
       "    }\n",
       "</style>\n",
       "<table border=\"1\" class=\"dataframe\">\n",
       "  <thead>\n",
       "    <tr style=\"text-align: right;\">\n",
       "      <th></th>\n",
       "      <th>query</th>\n",
       "      <th>query_statement</th>\n",
       "      <th>row_count</th>\n",
       "    </tr>\n",
       "  </thead>\n",
       "  <tbody>\n",
       "    <tr>\n",
       "      <th>0</th>\n",
       "      <td>398091</td>\n",
       "      <td>SELECT query, \\nLISTAGG(CASE WHEN LEN(RTRIM(te...</td>\n",
       "      <td>2</td>\n",
       "    </tr>\n",
       "    <tr>\n",
       "      <th>1</th>\n",
       "      <td>398083</td>\n",
       "      <td>SELECT query, \\nLISTAGG(CASE WHEN LEN(RTRIM(te...</td>\n",
       "      <td>2</td>\n",
       "    </tr>\n",
       "    <tr>\n",
       "      <th>2</th>\n",
       "      <td>397960</td>\n",
       "      <td>\\nSELECT query, \\nLISTAGG(CASE WHEN LEN(RTRIM(...</td>\n",
       "      <td>2</td>\n",
       "    </tr>\n",
       "    <tr>\n",
       "      <th>3</th>\n",
       "      <td>397895</td>\n",
       "      <td>\\nSELECT query, \\nLISTAGG(CASE WHEN LEN(RTRIM(...</td>\n",
       "      <td>2</td>\n",
       "    </tr>\n",
       "    <tr>\n",
       "      <th>4</th>\n",
       "      <td>397782</td>\n",
       "      <td>SELECT query, \\nLISTAGG(CASE WHEN LEN(RTRIM(te...</td>\n",
       "      <td>2</td>\n",
       "    </tr>\n",
       "    <tr>\n",
       "      <th>5</th>\n",
       "      <td>397769</td>\n",
       "      <td>SELECT query, \\nLISTAGG(CASE WHEN LEN(RTRIM(te...</td>\n",
       "      <td>2</td>\n",
       "    </tr>\n",
       "    <tr>\n",
       "      <th>6</th>\n",
       "      <td>397715</td>\n",
       "      <td>SELECT query, \\nLISTAGG(CASE WHEN LEN(RTRIM(te...</td>\n",
       "      <td>2</td>\n",
       "    </tr>\n",
       "    <tr>\n",
       "      <th>7</th>\n",
       "      <td>397628</td>\n",
       "      <td>SELECT query, \\nLISTAGG(CASE WHEN LEN(RTRIM(te...</td>\n",
       "      <td>2</td>\n",
       "    </tr>\n",
       "    <tr>\n",
       "      <th>8</th>\n",
       "      <td>396179</td>\n",
       "      <td>SELECT\\n    query,\\n    LISTAGG(\\n        CASE...</td>\n",
       "      <td>2</td>\n",
       "    </tr>\n",
       "    <tr>\n",
       "      <th>9</th>\n",
       "      <td>396175</td>\n",
       "      <td>SELECT\\n    query,\\n    LISTAGG(\\n        CASE...</td>\n",
       "      <td>2</td>\n",
       "    </tr>\n",
       "  </tbody>\n",
       "</table>\n",
       "</div>"
      ],
      "text/plain": [
       "    query                                    query_statement  row_count\n",
       "0  398091  SELECT query, \\nLISTAGG(CASE WHEN LEN(RTRIM(te...          2\n",
       "1  398083  SELECT query, \\nLISTAGG(CASE WHEN LEN(RTRIM(te...          2\n",
       "2  397960  \\nSELECT query, \\nLISTAGG(CASE WHEN LEN(RTRIM(...          2\n",
       "3  397895  \\nSELECT query, \\nLISTAGG(CASE WHEN LEN(RTRIM(...          2\n",
       "4  397782  SELECT query, \\nLISTAGG(CASE WHEN LEN(RTRIM(te...          2\n",
       "5  397769  SELECT query, \\nLISTAGG(CASE WHEN LEN(RTRIM(te...          2\n",
       "6  397715  SELECT query, \\nLISTAGG(CASE WHEN LEN(RTRIM(te...          2\n",
       "7  397628  SELECT query, \\nLISTAGG(CASE WHEN LEN(RTRIM(te...          2\n",
       "8  396179  SELECT\\n    query,\\n    LISTAGG(\\n        CASE...          2\n",
       "9  396175  SELECT\\n    query,\\n    LISTAGG(\\n        CASE...          2"
      ]
     },
     "execution_count": 27,
     "metadata": {},
     "output_type": "execute_result"
    }
   ],
   "source": [
    "cursor.execute(read).fetch_dataframe()"
   ]
  },
  {
   "cell_type": "code",
   "execution_count": 23,
   "metadata": {},
   "outputs": [
    {
     "data": {
      "text/plain": [
       "'SELECT query, \\nLISTAGG(CASE WHEN LEN(RTRIM(text)) = 0 THEN text \\n    ELSE RTRIM(text) END) WITHIN GROUP (ORDER BY sequence) AS query_statement, \\nCOUNT(*) as row_count \\nFROM stl_querytext\\nGROUP BY query\\nORDER BY query desc\\nLIMIT 10;'"
      ]
     },
     "execution_count": 23,
     "metadata": {},
     "output_type": "execute_result"
    }
   ],
   "source": [
    "read"
   ]
  },
  {
   "cell_type": "code",
   "execution_count": 3,
   "metadata": {},
   "outputs": [
    {
     "data": {
      "text/plain": [
       "PosixPath('/Users/chris')"
      ]
     },
     "execution_count": 3,
     "metadata": {},
     "output_type": "execute_result"
    }
   ],
   "source": [
    "from pathlib import Path\n",
    "Path.home()"
   ]
  },
  {
   "cell_type": "code",
   "execution_count": null,
   "metadata": {},
   "outputs": [],
   "source": []
  }
 ],
 "metadata": {
  "interpreter": {
   "hash": "6985f10b91082f8e90fb90f5e291b1f6a2370ee2bb80fa772a7655e7d786a886"
  },
  "kernelspec": {
   "display_name": "Python 3.8.12 64-bit ('.venv': venv)",
   "language": "python",
   "name": "python3"
  },
  "language_info": {
   "codemirror_mode": {
    "name": "ipython",
    "version": 3
   },
   "file_extension": ".py",
   "mimetype": "text/x-python",
   "name": "python",
   "nbconvert_exporter": "python",
   "pygments_lexer": "ipython3",
   "version": "3.8.12"
  },
  "orig_nbformat": 4
 },
 "nbformat": 4,
 "nbformat_minor": 2
}

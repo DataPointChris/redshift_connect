{
 "cells": [
  {
   "cell_type": "code",
   "execution_count": 1,
   "metadata": {},
   "outputs": [],
   "source": [
    "import pandas as pd\n",
    "import pathlib\n",
    "from redshift_connection import RedshiftConnection"
   ]
  },
  {
   "cell_type": "code",
   "execution_count": 2,
   "metadata": {},
   "outputs": [],
   "source": [
    "filename = 'last_10_queries.sql'\n",
    "sql_file_path = pathlib.Path(f'sql/{filename}')\n",
    "basename = sql_file_path.stem"
   ]
  },
  {
   "cell_type": "code",
   "execution_count": 3,
   "metadata": {},
   "outputs": [],
   "source": [
    "\n",
    "connection = RedshiftConnection().connect()\n",
    "cursor = connection.cursor()\n"
   ]
  },
  {
   "cell_type": "code",
   "execution_count": 25,
   "metadata": {},
   "outputs": [
    {
     "data": {
      "text/plain": [
       "True"
      ]
     },
     "execution_count": 25,
     "metadata": {},
     "output_type": "execute_result"
    }
   ],
   "source": [
    "\n",
    "sql_okay = \"\"\"SELECT query, \n",
    "LISTAGG(CASE WHEN LEN(RTRIM(text)) = 0 THEN text \n",
    "    ELSE RTRIM(text) END) WITHIN GROUP (ORDER BY sequence) AS query_statement, \n",
    "COUNT(*) as row_count \n",
    "FROM stl_querytext\n",
    "GROUP BY query\n",
    "ORDER BY query desc\n",
    "LIMIT 10;\"\"\"\n",
    "\n",
    "\n",
    "\n",
    "with open(sql_file_path, 'r') as query:\n",
    "    read = query.read()\n",
    "    # df = cursor.execute(sql).fetch_dataframe()\n",
    "#     df = pd.read_sql(query.read(), con=cnxn)\n",
    "# df = pd.read_sql(sql, cnxn)\n",
    "#     print(df)\n",
    "\n",
    "sql_okay == read"
   ]
  },
  {
   "cell_type": "code",
   "execution_count": 27,
   "metadata": {},
   "outputs": [
    {
     "data": {
      "text/html": [
       "<div>\n",
       "<style scoped>\n",
       "    .dataframe tbody tr th:only-of-type {\n",
       "        vertical-align: middle;\n",
       "    }\n",
       "\n",
       "    .dataframe tbody tr th {\n",
       "        vertical-align: top;\n",
       "    }\n",
       "\n",
       "    .dataframe thead th {\n",
       "        text-align: right;\n",
       "    }\n",
       "</style>\n",
       "<table border=\"1\" class=\"dataframe\">\n",
       "  <thead>\n",
       "    <tr style=\"text-align: right;\">\n",
       "      <th></th>\n",
       "      <th>query</th>\n",
       "      <th>query_statement</th>\n",
       "      <th>row_count</th>\n",
       "    </tr>\n",
       "  </thead>\n",
       "  <tbody>\n",
       "    <tr>\n",
       "      <th>0</th>\n",
       "      <td>398091</td>\n",
       "      <td>SELECT query, \\nLISTAGG(CASE WHEN LEN(RTRIM(te...</td>\n",
       "      <td>2</td>\n",
       "    </tr>\n",
       "    <tr>\n",
       "      <th>1</th>\n",
       "      <td>398083</td>\n",
       "      <td>SELECT query, \\nLISTAGG(CASE WHEN LEN(RTRIM(te...</td>\n",
       "      <td>2</td>\n",
       "    </tr>\n",
       "    <tr>\n",
       "      <th>2</th>\n",
       "      <td>397960</td>\n",
       "      <td>\\nSELECT query, \\nLISTAGG(CASE WHEN LEN(RTRIM(...</td>\n",
       "      <td>2</td>\n",
       "    </tr>\n",
       "    <tr>\n",
       "      <th>3</th>\n",
       "      <td>397895</td>\n",
       "      <td>\\nSELECT query, \\nLISTAGG(CASE WHEN LEN(RTRIM(...</td>\n",
       "      <td>2</td>\n",
       "    </tr>\n",
       "    <tr>\n",
       "      <th>4</th>\n",
       "      <td>397782</td>\n",
       "      <td>SELECT query, \\nLISTAGG(CASE WHEN LEN(RTRIM(te...</td>\n",
       "      <td>2</td>\n",
       "    </tr>\n",
       "    <tr>\n",
       "      <th>5</th>\n",
       "      <td>397769</td>\n",
       "      <td>SELECT query, \\nLISTAGG(CASE WHEN LEN(RTRIM(te...</td>\n",
       "      <td>2</td>\n",
       "    </tr>\n",
       "    <tr>\n",
       "      <th>6</th>\n",
       "      <td>397715</td>\n",
       "      <td>SELECT query, \\nLISTAGG(CASE WHEN LEN(RTRIM(te...</td>\n",
       "      <td>2</td>\n",
       "    </tr>\n",
       "    <tr>\n",
       "      <th>7</th>\n",
       "      <td>397628</td>\n",
       "      <td>SELECT query, \\nLISTAGG(CASE WHEN LEN(RTRIM(te...</td>\n",
       "      <td>2</td>\n",
       "    </tr>\n",
       "    <tr>\n",
       "      <th>8</th>\n",
       "      <td>396179</td>\n",
       "      <td>SELECT\\n    query,\\n    LISTAGG(\\n        CASE...</td>\n",
       "      <td>2</td>\n",
       "    </tr>\n",
       "    <tr>\n",
       "      <th>9</th>\n",
       "      <td>396175</td>\n",
       "      <td>SELECT\\n    query,\\n    LISTAGG(\\n        CASE...</td>\n",
       "      <td>2</td>\n",
       "    </tr>\n",
       "  </tbody>\n",
       "</table>\n",
       "</div>"
      ],
      "text/plain": [
       "    query                                    query_statement  row_count\n",
       "0  398091  SELECT query, \\nLISTAGG(CASE WHEN LEN(RTRIM(te...          2\n",
       "1  398083  SELECT query, \\nLISTAGG(CASE WHEN LEN(RTRIM(te...          2\n",
       "2  397960  \\nSELECT query, \\nLISTAGG(CASE WHEN LEN(RTRIM(...          2\n",
       "3  397895  \\nSELECT query, \\nLISTAGG(CASE WHEN LEN(RTRIM(...          2\n",
       "4  397782  SELECT query, \\nLISTAGG(CASE WHEN LEN(RTRIM(te...          2\n",
       "5  397769  SELECT query, \\nLISTAGG(CASE WHEN LEN(RTRIM(te...          2\n",
       "6  397715  SELECT query, \\nLISTAGG(CASE WHEN LEN(RTRIM(te...          2\n",
       "7  397628  SELECT query, \\nLISTAGG(CASE WHEN LEN(RTRIM(te...          2\n",
       "8  396179  SELECT\\n    query,\\n    LISTAGG(\\n        CASE...          2\n",
       "9  396175  SELECT\\n    query,\\n    LISTAGG(\\n        CASE...          2"
      ]
     },
     "execution_count": 27,
     "metadata": {},
     "output_type": "execute_result"
    }
   ],
   "source": [
    "cursor.execute(read).fetch_dataframe()"
   ]
  },
  {
   "cell_type": "code",
   "execution_count": 23,
   "metadata": {},
   "outputs": [
    {
     "data": {
      "text/plain": [
       "'SELECT query, \\nLISTAGG(CASE WHEN LEN(RTRIM(text)) = 0 THEN text \\n    ELSE RTRIM(text) END) WITHIN GROUP (ORDER BY sequence) AS query_statement, \\nCOUNT(*) as row_count \\nFROM stl_querytext\\nGROUP BY query\\nORDER BY query desc\\nLIMIT 10;'"
      ]
     },
     "execution_count": 23,
     "metadata": {},
     "output_type": "execute_result"
    }
   ],
   "source": [
    "read"
   ]
  },
  {
   "cell_type": "code",
   "execution_count": 3,
   "metadata": {},
   "outputs": [
    {
     "data": {
      "text/plain": [
       "PosixPath('/Users/chris')"
      ]
     },
     "execution_count": 3,
     "metadata": {},
     "output_type": "execute_result"
    }
   ],
   "source": [
    "from pathlib import Path\n",
    "Path.home()"
   ]
  },
  {
   "cell_type": "code",
   "execution_count": 2,
   "metadata": {},
   "outputs": [],
   "source": [
    "from security_domains import SECURITY_DOMAINS"
   ]
  },
  {
   "cell_type": "code",
   "execution_count": 3,
   "metadata": {},
   "outputs": [
    {
     "data": {
      "text/plain": [
       "{'security_domains': {'party': {'domains': {'customer': {'subdomains': {'master': {'security_groups': ['customer-master']},\n",
       "      'vehicle_purchase_writeup': {'security_groups': ['customer-vehicle-purchase-writeup']},\n",
       "      'call_center': {'security_groups': ['call-center-toy',\n",
       "        'call-center-toy-sen']},\n",
       "      'demographics': {'security_groups': ['customer-demographics']},\n",
       "      'communication_management': {'security_groups': ['customer-communication-management-sen']},\n",
       "      'dealer_relationship': {'security_groups': ['customer-dealer-relationship']},\n",
       "      'parts_ecommerce': {'security_groups': ['customer-parts-ecommerce']},\n",
       "      'predictive_scores': {'security_groups': ['customer-predictive-score',\n",
       "        'customer-predictive-score-toyota',\n",
       "        'customer-predictive-score-lexus']},\n",
       "      'alias': {'security_groups': ['customer-alias']},\n",
       "      'social_media': {'security_groups': ['']},\n",
       "      'marketing': {'security_groups': ['customer-marketing']}}},\n",
       "    'vendors_partners': {'security_groups': ['party-vendor-partner']},\n",
       "    'non_customer': {'security_groups': ['non-customer-sensitive']},\n",
       "    'distribution_region_dealer': {'subdomains': {'dealership_non_dealer_region_master': {'security_groups': ['dealer-master']},\n",
       "      'dealership_metrics': {'security_groups': ['party-dealer-management',\n",
       "        'party-dealer-management-sensitive']},\n",
       "      'dealer_personnel': {'security_groups': ['dealer-personnel']},\n",
       "      'dealer_call_center': {'security_groups': ['dealer-call-center']},\n",
       "      'region_master': {'security_groups': ['party-region-master-sensitive']},\n",
       "      'dealer_staff': {'security_groups': ['dealership-staff']}}}}},\n",
       "  'product': {'domains': {'vehicle': {'subdomains': {'master': {'security_groups': ['vehicle-master-data',\n",
       "        'vehicle-master-data-sensitive',\n",
       "        'vehicle-master-data-lexus-sensitive',\n",
       "        'vehicle-master-data-toyota-sensitive']},\n",
       "      'sales': {'security_groups': ['vehicle-sales',\n",
       "        'sales-actuals-sen',\n",
       "        'sales-forecast',\n",
       "        'sales-forecast-factor',\n",
       "        'sales-forecast-sen',\n",
       "        'vin-dist-sales-sen',\n",
       "        'sales-incentives-forecast-sen'],\n",
       "       'subdomains': {'new_car_sales': {'subdomains': {'aggregated': {'subdomains': {'actuals': {'security_groups': ['vehicle-sales-new-car-aggregated-actuals']}}},\n",
       "          'vin_based': {'subdomains': {'actuals': {'security_groups': ['vehicle-sales-new-car-vin-based-actuals']}}}}},\n",
       "        'used_car_sales': {'subdomains': {'vin_based': {'sudbomains': {'actuals': {'security_groups': ['vehicle-sales-used-car-vin-based-actuals']}}}}}}},\n",
       "      'incentives': {'forecast': {'security_groups': ['vehicle-incentive-forecast']},\n",
       "       'actuals': {'security_groups': ['vehicle-configuration',\n",
       "         'vehicle-configuration-sen']}},\n",
       "      'pricing': {'security_groups': ['vehicle-pricing',\n",
       "        'vehicle-pricing-sensitive']},\n",
       "      'configuration': {'security_groups': ['vehicle-configuration',\n",
       "        'vehicle-configuration-sen']},\n",
       "      'inventory_volume': {'security_groups': ['vehicle-inventory-volume',\n",
       "        'vehicle-inventory-volume-sen']},\n",
       "      'factors': {'security_groups': ['vehicle-factors-sensitive']},\n",
       "      'planning': {'security_groups': ['vehicle-planning-sensitive']},\n",
       "      'orders': {'subdomains': {'forecast': {'security_groups': ['vehicle-orders-actuals']},\n",
       "        'actuals': {'security_groups': ['vehicle-orders-actuals']}}},\n",
       "      'logistics_management': {'security_groups': ['vehicle-logistics-management',\n",
       "        'vehicle-logistics-mgmt-sensitive']}}},\n",
       "    'telematics': {'security_groups': ['telematics']},\n",
       "    'parts': {'subdomains': {'direct_parts': {'security_groups': ['parts-directparts'],\n",
       "       'subdomains': {'manufacturing_parts': {'security_groups': ['parts-directparts-manufacturing'],\n",
       "         'subdomains': {'supplier_survey': {'security_groups': ['parts-directparts-manufacturing-supplier-survey']},\n",
       "          'manufacturing_material': {'security_groups': ['']},\n",
       "          'inline_accessory_part': {'security_groups': ['']}}}}},\n",
       "      'indirect_parts': {'subdomains': {'service_parts': {'security_groups': ['parts-indirectparts-serviceparts'],\n",
       "         'subdomains': {'logistics': {'security_groups': ['']},\n",
       "          'procurement': {'subdomains': {'parts_distribution_center': {'security_groups': ['']},\n",
       "            'sales': {'security_groups': ['sales-serviceparts']},\n",
       "            'transactions': {'security_groups': ['parts-transactions']},\n",
       "            'incentives': {'security_groups': ['']},\n",
       "            'inventory_management': {'security_groups': ['parts-pdc-warehouse-management'],\n",
       "             'subdomains': {'supply': {'security_groups': ['parts-pdc-supply']}}}}}}},\n",
       "        'accessory_parts': {'security_groups': ['']}}},\n",
       "      'logistics_management': {'security_groups': ['parts-logistics-management']}}},\n",
       "    'quality': {'subdomains': {'campaigns': {'security_groups': ['quality-campaigns']},\n",
       "      'reports': {'security_groups': ['quality-reports']},\n",
       "      'diagnostics': {'security_groups': ['quality-diagnostics']}}}}},\n",
       "  'cross_domain_business_functions': {'domains': {'manufacturing': {'subdomains': {'defects': {'security_groups': ['manufacturing-defects']},\n",
       "      'productivity': {'security_groups': ['manufacturing-productivity']},\n",
       "      'job_process': {'security_groups': ['manufacturing-job-process']},\n",
       "      'affiliates': {'security_groups': ['manufacturing-affiliates']},\n",
       "      'equipment': {'security_groups': ['manufacturing-equipment']},\n",
       "      'inspection': {'security_groups': ['manufacturing-inspection']}}},\n",
       "    'warranty': {'security_groups': ['warranty', 'warranty-sensitive'],\n",
       "     'subdomains': {'parts_claims': {'security_groups': ['warranty-partsclaims']},\n",
       "      'warranty_insurance': {'security_groups': ['warranty-insurance']}},\n",
       "     'service_history': {'security_groups': ['service-history',\n",
       "       'toy-service-hist',\n",
       "       'lex-service-hist',\n",
       "       'lex-service-hist-puertorico',\n",
       "       'toy-service-hist-puertorico']}},\n",
       "    'accounting': {'subdomains': {'master': {'security_groups': ['accounting-master']},\n",
       "      'calendar': {'security_groups': ['accounting-calendar',\n",
       "        'accounting-calendar-sensitive']},\n",
       "      'transactions': {'security_groups': ['accounting-transactions',\n",
       "        'accounting-transactions-sensitive'],\n",
       "       'subdomains': {'expense': {'security_groups': ['accounting-transactions-expense-sensitive']}}}}},\n",
       "    'finance_management': {'subdomains': {'finance_master': {'security_groups': ['finance-master']}}},\n",
       "    'survey': {'security_groups': ['survey-lexus-anylt-us',\n",
       "      'survey-toyota-anylt-us',\n",
       "      'survey-lexus-anylt-puertorico',\n",
       "      'survey-toyota-anylt-puertorico'],\n",
       "     'subdomains': {'quality': {'security_groups': ['survey-quality']}}},\n",
       "    'irm_business_confidential_domains': {'subdomains': {'cmbs_cmbk': {'security_groups': ['irm-profit-sen',\n",
       "        'irm-pl-fio-sen',\n",
       "        'irm-pl-ppo-sen',\n",
       "        'irm-pl-veh-entr-sen',\n",
       "        'irm-pl-veh-sal-sen']},\n",
       "      'pricing_cals': {'subdomains': {'cal_tema': {'security_groups': ['irm-pricing-tema-cal']},\n",
       "        'cal_tmc': {'security_groups': ['irm-pricing-tmc-cal']},\n",
       "        'cal_tms': {'security_groups': ['irm-pricing-tms-cal']},\n",
       "        'hon_tema': {'security_groups': ['irm-pricing-tema-hon']}}},\n",
       "      'pricing_4levels': {'security_groups': ['irm-pricing-4levels']}}},\n",
       "    'legal': {'security_groups': ['legal-busers']}}},\n",
       "  'horizontal_business_functions': {'domains': {'reference': {'security_groups': ['reference',\n",
       "      'reference-sensitive'],\n",
       "     'subdomains': {'calendar': {'security_groups': ['reference-calendar']}},\n",
       "     'facilities': {'security_groups': ['facility']},\n",
       "     'identity_management': {'security_groups': ['identity-management'],\n",
       "      'subdomains': {'pdc': {'subdomains': {'labor': {'security_groups': ['parts-pdc-labor']}}}}},\n",
       "     'service_desk': {'security_groups': ['service-desk']}}}}}}"
      ]
     },
     "execution_count": 3,
     "metadata": {},
     "output_type": "execute_result"
    }
   ],
   "source": [
    "SECURITY_DOMAINS"
   ]
  },
  {
   "cell_type": "code",
   "execution_count": null,
   "metadata": {},
   "outputs": [],
   "source": []
  }
 ],
 "metadata": {
  "interpreter": {
   "hash": "6985f10b91082f8e90fb90f5e291b1f6a2370ee2bb80fa772a7655e7d786a886"
  },
  "kernelspec": {
   "display_name": "Python 3.8.12 64-bit ('.venv': venv)",
   "language": "python",
   "name": "python3"
  },
  "language_info": {
   "codemirror_mode": {
    "name": "ipython",
    "version": 3
   },
   "file_extension": ".py",
   "mimetype": "text/x-python",
   "name": "python",
   "nbconvert_exporter": "python",
   "pygments_lexer": "ipython3",
   "version": "3.8.12"
  },
  "orig_nbformat": 4
 },
 "nbformat": 4,
 "nbformat_minor": 2
}
